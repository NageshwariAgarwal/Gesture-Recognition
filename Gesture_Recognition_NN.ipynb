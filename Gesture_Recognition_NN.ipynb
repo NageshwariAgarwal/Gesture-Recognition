{
  "nbformat": 4,
  "nbformat_minor": 0,
  "metadata": {
    "kernelspec": {
      "display_name": "Python 3",
      "language": "python",
      "name": "python3"
    },
    "language_info": {
      "codemirror_mode": {
        "name": "ipython",
        "version": 3
      },
      "file_extension": ".py",
      "mimetype": "text/x-python",
      "name": "python",
      "nbconvert_exporter": "python",
      "pygments_lexer": "ipython3",
      "version": "3.8.3"
    },
    "colab": {
      "name": "Neural_Nets_Project_Starter_Code.ipynb",
      "provenance": [],
      "collapsed_sections": []
    },
    "accelerator": "GPU"
  },
  "cells": [
    {
      "cell_type": "markdown",
      "metadata": {
        "id": "re_N_sSzLcuP"
      },
      "source": [
        "# Gesture Recognition\n",
        "In this group project, you are going to build a 3D Conv model that will be able to predict the 5 gestures correctly. Please import the following libraries to get started."
      ]
    },
    {
      "cell_type": "code",
      "metadata": {
        "id": "-CBz270ALcuY"
      },
      "source": [
        "import numpy as np\n",
        "import os\n",
        "from imageio import imread\n",
        "from skimage.transform import resize\n",
        "import datetime\n",
        "import os"
      ],
      "execution_count": 1,
      "outputs": []
    },
    {
      "cell_type": "markdown",
      "metadata": {
        "id": "LMYTWYv0LcuZ"
      },
      "source": [
        "We set the random seed so that the results don't vary drastically."
      ]
    },
    {
      "cell_type": "code",
      "metadata": {
        "id": "nkr5N39_LcuZ"
      },
      "source": [
        "np.random.seed(30)\n",
        "import random as rn\n",
        "rn.seed(30)\n",
        "from keras import backend as K\n",
        "import tensorflow as tf\n",
        "tf.random.set_seed(30)"
      ],
      "execution_count": 2,
      "outputs": []
    },
    {
      "cell_type": "markdown",
      "metadata": {
        "id": "2ngQo5aHLcua"
      },
      "source": [
        "In this block, you read the folder names for training and validation. You also set the `batch_size` here. Note that you set the batch size in such a way that you are able to use the GPU in full capacity. You keep increasing the batch size until the machine throws an error."
      ]
    },
    {
      "cell_type": "code",
      "metadata": {
        "colab": {
          "base_uri": "https://localhost:8080/"
        },
        "id": "pcYQ5IcnhbGw",
        "outputId": "373eb1f7-9433-4b04-bf97-bad684113925"
      },
      "source": [
        "from google.colab import drive\n",
        "drive.mount('/content/gdrive')"
      ],
      "execution_count": 3,
      "outputs": [
        {
          "output_type": "stream",
          "text": [
            "Drive already mounted at /content/gdrive; to attempt to forcibly remount, call drive.mount(\"/content/gdrive\", force_remount=True).\n"
          ],
          "name": "stdout"
        }
      ]
    },
    {
      "cell_type": "code",
      "metadata": {
        "id": "Qz9rg82-Lcua"
      },
      "source": [
        "train_doc = np.random.permutation(open('/content/gdrive/My Drive/Colab Notebooks/Project_data/train.csv').readlines())\n",
        "val_doc = np.random.permutation(open('/content/gdrive/My Drive/Colab Notebooks/Project_data/val.csv').readlines())\n",
        "batch_size = 16 #experiment with the batch size"
      ],
      "execution_count": 4,
      "outputs": []
    },
    {
      "cell_type": "markdown",
      "metadata": {
        "id": "IXAK1t4WLcub"
      },
      "source": [
        "## Generator\n",
        "This is one of the most important part of the code. The overall structure of the generator has been given. In the generator, you are going to preprocess the images as you have images of 2 different dimensions as well as create a batch of video frames. You have to experiment with `img_idx`, `y`,`z` and normalization such that you get high accuracy."
      ]
    },
    {
      "cell_type": "code",
      "metadata": {
        "id": "Wta9VrQzLcub"
      },
      "source": [
        "def generator(source_path, folder_list, batch_size):\n",
        "    print( 'Source path = ', source_path, '; batch size =', batch_size)\n",
        "    img_idx = list(range(0,30,2)) #create a list of image numbers you want to use for a particular video\n",
        "    while True:\n",
        "        t = np.random.permutation(folder_list)\n",
        "        num_batches = len(t)//batch_size # calculate the number of batches\n",
        "        for batch in range(num_batches): # we iterate over the number of batches\n",
        "            batch_data = np.zeros((batch_size,len(img_idx),100,100,3)) # x is the number of images you use for each video, (y,z) is the final size of the input images and 3 is the number of channels RGB\n",
        "            batch_labels = np.zeros((batch_size,5)) # batch_labels is the one hot representation of the output\n",
        "            for folder in range(batch_size): # iterate over the batch_size\n",
        "                imgs = os.listdir(source_path+'/'+ t[folder + (batch*batch_size)].split(';')[0]) # read all the images in the folder\n",
        "                for idx,item in enumerate(img_idx): #  Iterate iver the frames/images of a folder to read them in\n",
        "                    image = imread(source_path+'/'+ t[folder + (batch*batch_size)].strip().split(';')[0]+'/'+imgs[item]).astype(np.float32)\n",
        "                    \n",
        "                    #crop the images and resize them. Note that the images are of 2 different shape \n",
        "                    #and the conv3D will throw error if the inputs in a batch have different shapes\n",
        "\n",
        "                    image = resize(image,(100,100))\n",
        "\n",
        "                    batch_data[folder,idx,:,:,0] = image[:,:,0]/255 #normalise and feed in the image\n",
        "                    batch_data[folder,idx,:,:,1] = image[:,:,1]/255 #normalise and feed in the image\n",
        "                    batch_data[folder,idx,:,:,2] = image[:,:,2]/255 #normalise and feed in the image\n",
        "                    \n",
        "                batch_labels[folder, int(t[folder + (batch*batch_size)].strip().split(';')[2])] = 1\n",
        "            yield batch_data, batch_labels #you yield the batch_data and the batch_labels, remember what does yield do\n",
        "\n",
        "        \n",
        "        # write the code for the remaining data points which are left after full batches\n",
        "\n",
        "        remaining = len(t) % batch_size\n",
        "        print(remaining)\n",
        "        if remaining != 0:\n",
        "            batch_data = np.zeros((remaining,len(img_idx),100,100,3)) # x is the number of images you use for each video, (y,z) is the final size of the input images and 3 is the number of channels RGB\n",
        "            batch_labels = np.zeros((remaining,5)) # batch_labels is the one hot representation of the output\n",
        "            for folder in range(remaining): # iterate over the batch_size\n",
        "                imgs = os.listdir(source_path+'/'+ t[folder + (batch*batch_size)].split(';')[0]) # read all the images in the folder\n",
        "                for idx,item in enumerate(img_idx): #  Iterate iver the frames/images of a folder to read them in\n",
        "                    image = imread(source_path+'/'+ t[folder + (batch*batch_size)].strip().split(';')[0]+'/'+imgs[item]).astype(np.float32)\n",
        "                    \n",
        "                    #crop the images and resize them. Note that the images are of 2 different shape \n",
        "                    #and the conv3D will throw error if the inputs in a batch have different shapes\n",
        "\n",
        "                    image = resize(image,(100,100))\n",
        "\n",
        "                    batch_data[folder,idx,:,:,0] = image[:,:,0]/255 #normalise and feed in the image\n",
        "                    batch_data[folder,idx,:,:,1] = image[:,:,1]/255 #normalise and feed in the image\n",
        "                    batch_data[folder,idx,:,:,2] = image[:,:,2]/255 #normalise and feed in the image\n",
        "                    \n",
        "                batch_labels[folder, int(t[folder + (batch*batch_size)].strip().split(';')[2])] = 1\n",
        "            yield batch_data, batch_labels #you yield the batch_data and the batch_labels, remember what does yield do\n"
      ],
      "execution_count": 5,
      "outputs": []
    },
    {
      "cell_type": "markdown",
      "metadata": {
        "id": "C__wh-GqLcuc"
      },
      "source": [
        "Note here that a video is represented above in the generator as (number of images, height, width, number of channels). Take this into consideration while creating the model architecture."
      ]
    },
    {
      "cell_type": "code",
      "metadata": {
        "id": "Yx8a5C5jLcuc",
        "colab": {
          "base_uri": "https://localhost:8080/"
        },
        "outputId": "d5c99759-f363-4ab5-f1f5-e8ee53d3de3a"
      },
      "source": [
        "curr_dt_time = datetime.datetime.now()\n",
        "train_path = '/content/gdrive/My Drive/Colab Notebooks/Project_data/train'\n",
        "val_path = '/content/gdrive/My Drive/Colab Notebooks/Project_data/val'\n",
        "num_train_sequences = len(train_doc)\n",
        "print('# training sequences =', num_train_sequences)\n",
        "num_val_sequences = len(val_doc)\n",
        "print('# validation sequences =', num_val_sequences)\n",
        "num_epochs = 10 # choose the number of epochs\n",
        "print ('# epochs =', num_epochs)"
      ],
      "execution_count": 6,
      "outputs": [
        {
          "output_type": "stream",
          "text": [
            "# training sequences = 663\n",
            "# validation sequences = 100\n",
            "# epochs = 10\n"
          ],
          "name": "stdout"
        }
      ]
    },
    {
      "cell_type": "markdown",
      "metadata": {
        "id": "qp0NXDbULcud"
      },
      "source": [
        "## Model\n",
        "Here you make the model using different functionalities that Keras provides. Remember to use `Conv3D` and `MaxPooling3D` and not `Conv2D` and `Maxpooling2D` for a 3D convolution model. You would want to use `TimeDistributed` while building a Conv2D + RNN model. Also remember that the last layer is the softmax. Design the network in such a way that the model is able to give good accuracy on the least number of parameters so that it can fit in the memory of the webcam."
      ]
    },
    {
      "cell_type": "markdown",
      "metadata": {
        "id": "OkUr-W6qUJEH"
      },
      "source": [
        "### Model 1 - Conv3D"
      ]
    },
    {
      "cell_type": "code",
      "metadata": {
        "id": "b7BfZcSGLcud"
      },
      "source": [
        "from keras.models import Sequential, Model\n",
        "from keras.layers import Dense, GRU, Flatten, TimeDistributed, Flatten, BatchNormalization, Activation, Dropout\n",
        "from keras.layers.convolutional import Conv3D, MaxPooling3D\n",
        "from keras.callbacks import ModelCheckpoint, ReduceLROnPlateau\n",
        "from tensorflow.keras.regularizers import l2\n",
        "from keras import optimizers\n",
        "import keras\n",
        "\n",
        "#write your model here\n",
        "\n",
        "model = Sequential()\n",
        "model.add(Conv3D(16, (3,3,3), padding='same', input_shape=(15,100,100,3)))\n",
        "model.add(BatchNormalization())\n",
        "model.add(Activation('relu'))\n",
        "model.add(MaxPooling3D(pool_size=(2, 2,2)))\n",
        "model.add(Dropout(0.2))\n",
        "\n",
        "\n",
        "model.add(Conv3D(32, (3, 3,3), padding='same'))\n",
        "model.add(BatchNormalization())\n",
        "model.add(Activation('relu'))\n",
        "model.add(MaxPooling3D(pool_size=(2, 2,2)))\n",
        "model.add(Dropout(0.2))\n",
        "\n",
        "model.add(Conv3D(64, (3, 3,3), padding='same'))\n",
        "model.add(BatchNormalization())\n",
        "model.add(Activation('relu'))\n",
        "model.add(MaxPooling3D(pool_size=(2, 2,2)))\n",
        "model.add(Dropout(0.2))\n",
        "\n",
        "\n",
        "\n",
        "model.add(Flatten())\n",
        "model.add(Dense(64))\n",
        "model.add(Activation('relu'))\n",
        "model.add(Dense(128,kernel_regularizer=l2(0.01)))\n",
        "model.add(Activation('relu'))\n",
        "model.add(Dropout(0.3))\n",
        "\n",
        "model.add(Dense(5))\n",
        "model.add(Activation('softmax'))"
      ],
      "execution_count": 7,
      "outputs": []
    },
    {
      "cell_type": "markdown",
      "metadata": {
        "id": "fkLh0lb6Lcue"
      },
      "source": [
        "Now that you have written the model, the next step is to `compile` the model. When you print the `summary` of the model, you'll see the total number of parameters you have to train."
      ]
    },
    {
      "cell_type": "code",
      "metadata": {
        "scrolled": true,
        "id": "hOl-LmP4Lcue",
        "colab": {
          "base_uri": "https://localhost:8080/"
        },
        "outputId": "4a9e759f-0a69-46b0-c5dd-957990caf12d"
      },
      "source": [
        "learning_rate = 0.001\n",
        "optimiser = keras.optimizers.Adam(lr=learning_rate) #write your optimizer\n",
        "model.compile(optimizer=optimiser, loss='categorical_crossentropy', metrics=['categorical_accuracy'])\n",
        "print (model.summary())"
      ],
      "execution_count": 8,
      "outputs": [
        {
          "output_type": "stream",
          "text": [
            "Model: \"sequential\"\n",
            "_________________________________________________________________\n",
            "Layer (type)                 Output Shape              Param #   \n",
            "=================================================================\n",
            "conv3d (Conv3D)              (None, 15, 100, 100, 16)  1312      \n",
            "_________________________________________________________________\n",
            "batch_normalization (BatchNo (None, 15, 100, 100, 16)  64        \n",
            "_________________________________________________________________\n",
            "activation (Activation)      (None, 15, 100, 100, 16)  0         \n",
            "_________________________________________________________________\n",
            "max_pooling3d (MaxPooling3D) (None, 7, 50, 50, 16)     0         \n",
            "_________________________________________________________________\n",
            "dropout (Dropout)            (None, 7, 50, 50, 16)     0         \n",
            "_________________________________________________________________\n",
            "conv3d_1 (Conv3D)            (None, 7, 50, 50, 32)     13856     \n",
            "_________________________________________________________________\n",
            "batch_normalization_1 (Batch (None, 7, 50, 50, 32)     128       \n",
            "_________________________________________________________________\n",
            "activation_1 (Activation)    (None, 7, 50, 50, 32)     0         \n",
            "_________________________________________________________________\n",
            "max_pooling3d_1 (MaxPooling3 (None, 3, 25, 25, 32)     0         \n",
            "_________________________________________________________________\n",
            "dropout_1 (Dropout)          (None, 3, 25, 25, 32)     0         \n",
            "_________________________________________________________________\n",
            "conv3d_2 (Conv3D)            (None, 3, 25, 25, 64)     55360     \n",
            "_________________________________________________________________\n",
            "batch_normalization_2 (Batch (None, 3, 25, 25, 64)     256       \n",
            "_________________________________________________________________\n",
            "activation_2 (Activation)    (None, 3, 25, 25, 64)     0         \n",
            "_________________________________________________________________\n",
            "max_pooling3d_2 (MaxPooling3 (None, 1, 12, 12, 64)     0         \n",
            "_________________________________________________________________\n",
            "dropout_2 (Dropout)          (None, 1, 12, 12, 64)     0         \n",
            "_________________________________________________________________\n",
            "flatten (Flatten)            (None, 9216)              0         \n",
            "_________________________________________________________________\n",
            "dense (Dense)                (None, 64)                589888    \n",
            "_________________________________________________________________\n",
            "activation_3 (Activation)    (None, 64)                0         \n",
            "_________________________________________________________________\n",
            "dense_1 (Dense)              (None, 128)               8320      \n",
            "_________________________________________________________________\n",
            "activation_4 (Activation)    (None, 128)               0         \n",
            "_________________________________________________________________\n",
            "dropout_3 (Dropout)          (None, 128)               0         \n",
            "_________________________________________________________________\n",
            "dense_2 (Dense)              (None, 5)                 645       \n",
            "_________________________________________________________________\n",
            "activation_5 (Activation)    (None, 5)                 0         \n",
            "=================================================================\n",
            "Total params: 669,829\n",
            "Trainable params: 669,605\n",
            "Non-trainable params: 224\n",
            "_________________________________________________________________\n",
            "None\n"
          ],
          "name": "stdout"
        },
        {
          "output_type": "stream",
          "text": [
            "/usr/local/lib/python3.7/dist-packages/tensorflow/python/keras/optimizer_v2/optimizer_v2.py:375: UserWarning: The `lr` argument is deprecated, use `learning_rate` instead.\n",
            "  \"The `lr` argument is deprecated, use `learning_rate` instead.\")\n"
          ],
          "name": "stderr"
        }
      ]
    },
    {
      "cell_type": "markdown",
      "metadata": {
        "id": "jGGgDkoNLcue"
      },
      "source": [
        "Let us create the `train_generator` and the `val_generator` which will be used in `.fit_generator`."
      ]
    },
    {
      "cell_type": "code",
      "metadata": {
        "id": "L-JD5Q4QLcuf"
      },
      "source": [
        "train_generator = generator(train_path, train_doc, batch_size)\n",
        "val_generator = generator(val_path, val_doc, batch_size)"
      ],
      "execution_count": 9,
      "outputs": []
    },
    {
      "cell_type": "code",
      "metadata": {
        "id": "uPCkQ4fzLcuf",
        "colab": {
          "base_uri": "https://localhost:8080/"
        },
        "outputId": "7f131057-168c-43bb-f747-159ceab54a9b"
      },
      "source": [
        "model_name = 'model_init' + '_' + str(curr_dt_time).replace(' ','').replace(':','_') + '/'\n",
        "    \n",
        "if not os.path.exists(model_name):\n",
        "    os.mkdir(model_name)\n",
        "        \n",
        "filepath = model_name + 'model-{epoch:05d}-{loss:.5f}-{categorical_accuracy:.5f}-{val_loss:.5f}-{val_categorical_accuracy:.5f}.h5'\n",
        "\n",
        "checkpoint = ModelCheckpoint(filepath, monitor='val_loss', verbose=1, save_best_only=False, save_weights_only=False, mode='auto', period=1)\n",
        "\n",
        "LR = ReduceLROnPlateau(monitor='val_loss', factor=0.5, patience=2, cooldown=1, verbose=1)# write the REducelronplateau code here\n",
        "callbacks_list = [checkpoint, LR]"
      ],
      "execution_count": 10,
      "outputs": [
        {
          "output_type": "stream",
          "text": [
            "WARNING:tensorflow:`period` argument is deprecated. Please use `save_freq` to specify the frequency in number of batches seen.\n"
          ],
          "name": "stdout"
        }
      ]
    },
    {
      "cell_type": "markdown",
      "metadata": {
        "id": "u2OmWYU8Lcuf"
      },
      "source": [
        "The `steps_per_epoch` and `validation_steps` are used by `fit_generator` to decide the number of next() calls it need to make."
      ]
    },
    {
      "cell_type": "code",
      "metadata": {
        "id": "8BjOYAWfLcuf"
      },
      "source": [
        "if (num_train_sequences%batch_size) == 0:\n",
        "    steps_per_epoch = int(num_train_sequences/batch_size)\n",
        "else:\n",
        "    steps_per_epoch = (num_train_sequences//batch_size) + 1\n",
        "\n",
        "if (num_val_sequences%batch_size) == 0:\n",
        "    validation_steps = int(num_val_sequences/batch_size)\n",
        "else:\n",
        "    validation_steps = (num_val_sequences//batch_size) + 1"
      ],
      "execution_count": 11,
      "outputs": []
    },
    {
      "cell_type": "code",
      "metadata": {
        "colab": {
          "base_uri": "https://localhost:8080/"
        },
        "id": "7HIsI_g5TmvF",
        "outputId": "3e274a4c-9902-4086-af88-d84eb355a304"
      },
      "source": [
        "steps_per_epoch"
      ],
      "execution_count": 12,
      "outputs": [
        {
          "output_type": "execute_result",
          "data": {
            "text/plain": [
              "42"
            ]
          },
          "metadata": {
            "tags": []
          },
          "execution_count": 12
        }
      ]
    },
    {
      "cell_type": "markdown",
      "metadata": {
        "id": "Oq5CFqRMLcuh"
      },
      "source": [
        "Let us now fit the model. This will start training the model and with the help of the checkpoints, you'll be able to save the model at the end of each epoch."
      ]
    },
    {
      "cell_type": "code",
      "metadata": {
        "id": "kOyDjS5ELcui",
        "colab": {
          "base_uri": "https://localhost:8080/"
        },
        "outputId": "3e3bc5c8-69f6-4713-f0d8-47c0107b9620"
      },
      "source": [
        "history = model.fit_generator(train_generator, steps_per_epoch=steps_per_epoch, epochs=num_epochs, verbose=1, \n",
        "                    callbacks=callbacks_list, validation_data=val_generator, \n",
        "                    validation_steps=validation_steps, class_weight=None, workers=1, initial_epoch=0)"
      ],
      "execution_count": 13,
      "outputs": [
        {
          "output_type": "stream",
          "text": [
            "/usr/local/lib/python3.7/dist-packages/keras/engine/training.py:1915: UserWarning: `Model.fit_generator` is deprecated and will be removed in a future version. Please use `Model.fit`, which supports generators.\n",
            "  warnings.warn('`Model.fit_generator` is deprecated and '\n"
          ],
          "name": "stderr"
        },
        {
          "output_type": "stream",
          "text": [
            "Source path =  /content/gdrive/My Drive/Colab Notebooks/Project_data/train ; batch size = 16\n",
            "Epoch 1/10\n",
            "40/42 [===========================>..] - ETA: 4s - loss: 3.4775 - categorical_accuracy: 0.27607\n",
            "42/42 [==============================] - ETA: 0s - loss: 3.4396 - categorical_accuracy: 0.2787Source path =  /content/gdrive/My Drive/Colab Notebooks/Project_data/val ; batch size = 16\n",
            "4\n",
            "42/42 [==============================] - 143s 3s/step - loss: 3.4218 - categorical_accuracy: 0.2800 - val_loss: 2.1616 - val_categorical_accuracy: 0.3500\n",
            "\n",
            "Epoch 00001: saving model to model_init_2021-06-2808_41_53.813509/model-00001-2.67702-0.33333-2.16160-0.35000.h5\n",
            "Epoch 2/10\n",
            "40/42 [===========================>..] - ETA: 6s - loss: 1.8569 - categorical_accuracy: 0.43017\n",
            "42/42 [==============================] - ETA: 0s - loss: 1.8530 - categorical_accuracy: 0.43174\n",
            "42/42 [==============================] - 163s 4s/step - loss: 1.8511 - categorical_accuracy: 0.4324 - val_loss: 2.4297 - val_categorical_accuracy: 0.2400\n",
            "\n",
            "Epoch 00002: saving model to model_init_2021-06-2808_41_53.813509/model-00002-1.77229-0.46305-2.42970-0.24000.h5\n",
            "Epoch 3/10\n",
            "40/42 [===========================>..] - ETA: 4s - loss: 1.6014 - categorical_accuracy: 0.49527\n",
            "42/42 [==============================] - ETA: 0s - loss: 1.6027 - categorical_accuracy: 0.49414\n",
            "42/42 [==============================] - 120s 3s/step - loss: 1.6034 - categorical_accuracy: 0.4936 - val_loss: 2.1839 - val_categorical_accuracy: 0.2700\n",
            "\n",
            "Epoch 00003: saving model to model_init_2021-06-2808_41_53.813509/model-00003-1.63000-0.47210-2.18387-0.27000.h5\n",
            "\n",
            "Epoch 00003: ReduceLROnPlateau reducing learning rate to 0.0005000000237487257.\n",
            "Epoch 4/10\n",
            "40/42 [===========================>..] - ETA: 4s - loss: 1.4952 - categorical_accuracy: 0.52367\n",
            "42/42 [==============================] - ETA: 0s - loss: 1.4928 - categorical_accuracy: 0.52444\n",
            "42/42 [==============================] - 119s 3s/step - loss: 1.4916 - categorical_accuracy: 0.5248 - val_loss: 2.8913 - val_categorical_accuracy: 0.3000\n",
            "\n",
            "Epoch 00004: saving model to model_init_2021-06-2808_41_53.813509/model-00004-1.44301-0.53997-2.89135-0.30000.h5\n",
            "Epoch 5/10\n",
            "40/42 [===========================>..] - ETA: 4s - loss: 1.3081 - categorical_accuracy: 0.60307\n",
            "42/42 [==============================] - ETA: 0s - loss: 1.3047 - categorical_accuracy: 0.60414\n",
            "42/42 [==============================] - 119s 3s/step - loss: 1.3031 - categorical_accuracy: 0.6047 - val_loss: 3.5179 - val_categorical_accuracy: 0.3100\n",
            "\n",
            "Epoch 00005: saving model to model_init_2021-06-2808_41_53.813509/model-00005-1.23682-0.62745-3.51792-0.31000.h5\n",
            "\n",
            "Epoch 00005: ReduceLROnPlateau reducing learning rate to 0.0002500000118743628.\n",
            "Epoch 6/10\n",
            "40/42 [===========================>..] - ETA: 4s - loss: 1.1257 - categorical_accuracy: 0.66877\n",
            "42/42 [==============================] - ETA: 0s - loss: 1.1249 - categorical_accuracy: 0.66834\n",
            "42/42 [==============================] - 118s 3s/step - loss: 1.1246 - categorical_accuracy: 0.6681 - val_loss: 3.2910 - val_categorical_accuracy: 0.2500\n",
            "\n",
            "Epoch 00006: saving model to model_init_2021-06-2808_41_53.813509/model-00006-1.11078-0.65913-3.29101-0.25000.h5\n",
            "Epoch 7/10\n",
            "40/42 [===========================>..] - ETA: 4s - loss: 1.0182 - categorical_accuracy: 0.71267\n",
            "42/42 [==============================] - ETA: 0s - loss: 1.0193 - categorical_accuracy: 0.71224\n",
            "4\n",
            "42/42 [==============================] - 117s 3s/step - loss: 1.0197 - categorical_accuracy: 0.7121 - val_loss: 3.9019 - val_categorical_accuracy: 0.2000\n",
            "\n",
            "Epoch 00007: saving model to model_init_2021-06-2808_41_53.813509/model-00007-1.03832-0.70588-3.90190-0.20000.h5\n",
            "\n",
            "Epoch 00007: ReduceLROnPlateau reducing learning rate to 0.0001250000059371814.\n",
            "Epoch 8/10\n",
            "40/42 [===========================>..] - ETA: 4s - loss: 0.9722 - categorical_accuracy: 0.72387\n",
            "42/42 [==============================] - ETA: 0s - loss: 0.9718 - categorical_accuracy: 0.72424\n",
            "42/42 [==============================] - 118s 3s/step - loss: 0.9717 - categorical_accuracy: 0.7244 - val_loss: 3.5993 - val_categorical_accuracy: 0.2200\n",
            "\n",
            "Epoch 00008: saving model to model_init_2021-06-2808_41_53.813509/model-00008-0.96470-0.73152-3.59934-0.22000.h5\n",
            "Epoch 9/10\n",
            "40/42 [===========================>..] - ETA: 4s - loss: 0.8817 - categorical_accuracy: 0.76427\n",
            "42/42 [==============================] - ETA: 0s - loss: 0.8835 - categorical_accuracy: 0.76334\n",
            "42/42 [==============================] - 116s 3s/step - loss: 0.8844 - categorical_accuracy: 0.7629 - val_loss: 3.5873 - val_categorical_accuracy: 0.2200\n",
            "\n",
            "Epoch 00009: saving model to model_init_2021-06-2808_41_53.813509/model-00009-0.92165-0.74510-3.58730-0.22000.h5\n",
            "\n",
            "Epoch 00009: ReduceLROnPlateau reducing learning rate to 6.25000029685907e-05.\n",
            "Epoch 10/10\n",
            "40/42 [===========================>..] - ETA: 4s - loss: 0.8750 - categorical_accuracy: 0.76377\n",
            "42/42 [==============================] - ETA: 0s - loss: 0.8744 - categorical_accuracy: 0.76414\n",
            "42/42 [==============================] - 118s 3s/step - loss: 0.8741 - categorical_accuracy: 0.7643 - val_loss: 2.8700 - val_categorical_accuracy: 0.2600\n",
            "\n",
            "Epoch 00010: saving model to model_init_2021-06-2808_41_53.813509/model-00010-0.86035-0.77376-2.86996-0.26000.h5\n"
          ],
          "name": "stdout"
        }
      ]
    },
    {
      "cell_type": "code",
      "metadata": {
        "id": "mfCY9TeaLcuj",
        "colab": {
          "base_uri": "https://localhost:8080/",
          "height": 498
        },
        "outputId": "0bc245c9-c6ab-494a-d253-224f9c07510e"
      },
      "source": [
        "import matplotlib.pyplot as plt\n",
        "\n",
        "acc = history.history['categorical_accuracy']\n",
        "val_acc = history.history['val_categorical_accuracy']\n",
        "\n",
        "loss = history.history['loss']\n",
        "val_loss = history.history['val_loss']\n",
        "\n",
        "epochs_range = range(num_epochs)\n",
        "\n",
        "plt.figure(figsize=(8, 8))\n",
        "plt.subplot(1, 2, 1)\n",
        "plt.plot(epochs_range, acc, label='Training Accuracy')\n",
        "plt.plot(epochs_range, val_acc, label='Validation Accuracy')\n",
        "plt.legend(loc='lower right')\n",
        "plt.title('Training and Validation Accuracy')\n",
        "\n",
        "plt.subplot(1, 2, 2)\n",
        "plt.plot(epochs_range, loss, label='Training Loss')\n",
        "plt.plot(epochs_range, val_loss, label='Validation Loss')\n",
        "plt.legend(loc='upper right')\n",
        "plt.title('Training and Validation Loss')\n",
        "plt.show()"
      ],
      "execution_count": 14,
      "outputs": [
        {
          "output_type": "display_data",
          "data": {
            "image/png": "[encoded data removed]",
            "text/plain": [
              "<Figure size 576x576 with 2 Axes>"
            ]
          },
          "metadata": {
            "tags": [],
            "needs_background": "light"
          }
        }
      ]
    },
    {
      "cell_type": "markdown",
      "metadata": {
        "id": "A6nKs1E7YkCI"
      },
      "source": [
        "### Model 2 - Conv3D\n",
        "\n",
        "- Increasing the number of epochs.\n",
        "- Increading the dropout."
      ]
    },
    {
      "cell_type": "code",
      "metadata": {
        "colab": {
          "base_uri": "https://localhost:8080/"
        },
        "id": "1QjUtfLiTHJw",
        "outputId": "7ea29147-5e9b-440b-a50f-cbfeb491e76a"
      },
      "source": [
        "curr_dt_time = datetime.datetime.now()\n",
        "train_path = '/content/gdrive/My Drive/Colab Notebooks/Project_data/train'\n",
        "val_path = '/content/gdrive/My Drive/Colab Notebooks/Project_data/val'\n",
        "num_train_sequences = len(train_doc)\n",
        "print('# training sequences =', num_train_sequences)\n",
        "num_val_sequences = len(val_doc)\n",
        "print('# validation sequences =', num_val_sequences)\n",
        "num_epochs = 30 # choose the number of epochs\n",
        "print ('# epochs =', num_epochs)\n",
        "\n",
        "model2 = Sequential()\n",
        "model2.add(Conv3D(16, (3,3,3), padding='same', input_shape=(15,100,100,3)))\n",
        "model.add(BatchNormalization())\n",
        "model2.add(Activation('relu'))\n",
        "model2.add(MaxPooling3D(pool_size=(2, 2,2)))\n",
        "model2.add(Dropout(0.3))\n",
        "\n",
        "model2.add(Conv3D(32, (3, 3,3), padding='same'))\n",
        "model.add(BatchNormalization())\n",
        "model2.add(Activation('relu'))\n",
        "model2.add(MaxPooling3D(pool_size=(2, 2,2)))\n",
        "model2.add(Dropout(0.3))\n",
        "\n",
        "model2.add(Conv3D(64, (3, 3,3), padding='same'))\n",
        "model.add(BatchNormalization())\n",
        "model2.add(Activation('relu'))\n",
        "model2.add(MaxPooling3D(pool_size=(2, 2,2)))\n",
        "model2.add(Dropout(0.3))\n",
        "\n",
        "\n",
        "model2.add(Flatten())\n",
        "model.add(Dense(64))\n",
        "model.add(Activation('relu'))\n",
        "model2.add(Dropout(0.3))\n",
        "model2.add(Dense(128,kernel_regularizer=l2(0.01)))\n",
        "model2.add(Activation('relu'))\n",
        "model2.add(Dropout(0.3))\n",
        "\n",
        "model2.add(Dense(5))\n",
        "model2.add(Activation('softmax'))\n",
        "\n",
        "learning_rate = 0.001\n",
        "optimiser = keras.optimizers.Adam(lr=learning_rate) #write your optimizer\n",
        "model2.compile(optimizer=optimiser, loss='categorical_crossentropy', metrics=['categorical_accuracy'])\n",
        "print (model2.summary())"
      ],
      "execution_count": 15,
      "outputs": [
        {
          "output_type": "stream",
          "text": [
            "# training sequences = 663\n",
            "# validation sequences = 100\n",
            "# epochs = 30\n",
            "Model: \"sequential_1\"\n",
            "_________________________________________________________________\n",
            "Layer (type)                 Output Shape              Param #   \n",
            "=================================================================\n",
            "conv3d_3 (Conv3D)            (None, 15, 100, 100, 16)  1312      \n",
            "_________________________________________________________________\n",
            "activation_6 (Activation)    (None, 15, 100, 100, 16)  0         \n",
            "_________________________________________________________________\n",
            "max_pooling3d_3 (MaxPooling3 (None, 7, 50, 50, 16)     0         \n",
            "_________________________________________________________________\n",
            "dropout_4 (Dropout)          (None, 7, 50, 50, 16)     0         \n",
            "_________________________________________________________________\n",
            "conv3d_4 (Conv3D)            (None, 7, 50, 50, 32)     13856     \n",
            "_________________________________________________________________\n",
            "activation_7 (Activation)    (None, 7, 50, 50, 32)     0         \n",
            "_________________________________________________________________\n",
            "max_pooling3d_4 (MaxPooling3 (None, 3, 25, 25, 32)     0         \n",
            "_________________________________________________________________\n",
            "dropout_5 (Dropout)          (None, 3, 25, 25, 32)     0         \n",
            "_________________________________________________________________\n",
            "conv3d_5 (Conv3D)            (None, 3, 25, 25, 64)     55360     \n",
            "_________________________________________________________________\n",
            "activation_8 (Activation)    (None, 3, 25, 25, 64)     0         \n",
            "_________________________________________________________________\n",
            "max_pooling3d_5 (MaxPooling3 (None, 1, 12, 12, 64)     0         \n",
            "_________________________________________________________________\n",
            "dropout_6 (Dropout)          (None, 1, 12, 12, 64)     0         \n",
            "_________________________________________________________________\n",
            "flatten_1 (Flatten)          (None, 9216)              0         \n",
            "_________________________________________________________________\n",
            "dropout_7 (Dropout)          (None, 9216)              0         \n",
            "_________________________________________________________________\n",
            "dense_4 (Dense)              (None, 128)               1179776   \n",
            "_________________________________________________________________\n",
            "activation_10 (Activation)   (None, 128)               0         \n",
            "_________________________________________________________________\n",
            "dropout_8 (Dropout)          (None, 128)               0         \n",
            "_________________________________________________________________\n",
            "dense_5 (Dense)              (None, 5)                 645       \n",
            "_________________________________________________________________\n",
            "activation_11 (Activation)   (None, 5)                 0         \n",
            "=================================================================\n",
            "Total params: 1,250,949\n",
            "Trainable params: 1,250,949\n",
            "Non-trainable params: 0\n",
            "_________________________________________________________________\n",
            "None\n"
          ],
          "name": "stdout"
        },
        {
          "output_type": "stream",
          "text": [
            "/usr/local/lib/python3.7/dist-packages/tensorflow/python/keras/optimizer_v2/optimizer_v2.py:375: UserWarning: The `lr` argument is deprecated, use `learning_rate` instead.\n",
            "  \"The `lr` argument is deprecated, use `learning_rate` instead.\")\n"
          ],
          "name": "stderr"
        }
      ]
    },
    {
      "cell_type": "code",
      "metadata": {
        "colab": {
          "base_uri": "https://localhost:8080/"
        },
        "id": "K2xG6fKtT3Xv",
        "outputId": "f5cd39d0-b5c7-4122-f22d-ee34ece8b70a"
      },
      "source": [
        "train_generator = generator(train_path, train_doc, batch_size)\n",
        "val_generator = generator(val_path, val_doc, batch_size)\n",
        "\n",
        "model_name = 'model_init' + '_' + str(curr_dt_time).replace(' ','').replace(':','_') + '/'\n",
        "    \n",
        "if not os.path.exists(model_name):\n",
        "    os.mkdir(model_name)\n",
        "        \n",
        "filepath = model_name + 'model-{epoch:05d}-{loss:.5f}-{categorical_accuracy:.5f}-{val_loss:.5f}-{val_categorical_accuracy:.5f}.h5'\n",
        "\n",
        "checkpoint = ModelCheckpoint(filepath, monitor='val_loss', verbose=1, save_best_only=False, save_weights_only=False, mode='auto', period=1)\n",
        "\n",
        "LR = ReduceLROnPlateau(monitor='val_loss', factor=0.5, patience=2, cooldown=1, verbose=1)# write the REducelronplateau code here\n",
        "callbacks_list = [checkpoint, LR]\n",
        "\n",
        "if (num_train_sequences%batch_size) == 0:\n",
        "    steps_per_epoch = int(num_train_sequences/batch_size)\n",
        "else:\n",
        "    steps_per_epoch = (num_train_sequences//batch_size) + 1\n",
        "\n",
        "if (num_val_sequences%batch_size) == 0:\n",
        "    validation_steps = int(num_val_sequences/batch_size)\n",
        "else:\n",
        "    validation_steps = (num_val_sequences//batch_size) + 1\n",
        "\n",
        "\n",
        "history2 = model2.fit_generator(train_generator, steps_per_epoch=steps_per_epoch, epochs=num_epochs, verbose=1, \n",
        "                    callbacks=callbacks_list, validation_data=val_generator, \n",
        "                    validation_steps=validation_steps, class_weight=None, workers=1, initial_epoch=0)"
      ],
      "execution_count": 16,
      "outputs": [
        {
          "output_type": "stream",
          "text": [
            "WARNING:tensorflow:`period` argument is deprecated. Please use `save_freq` to specify the frequency in number of batches seen.\n",
            "Source path =  /content/gdrive/My Drive/Colab Notebooks/Project_data/train ; batch size = 16\n"
          ],
          "name": "stdout"
        },
        {
          "output_type": "stream",
          "text": [
            "/usr/local/lib/python3.7/dist-packages/keras/engine/training.py:1915: UserWarning: `Model.fit_generator` is deprecated and will be removed in a future version. Please use `Model.fit`, which supports generators.\n",
            "  warnings.warn('`Model.fit_generator` is deprecated and '\n"
          ],
          "name": "stderr"
        },
        {
          "output_type": "stream",
          "text": [
            "Epoch 1/30\n",
            "40/42 [===========================>..] - ETA: 4s - loss: 4.1354 - categorical_accuracy: 0.21287\n",
            "42/42 [==============================] - ETA: 0s - loss: 4.1079 - categorical_accuracy: 0.2120Source path =  /content/gdrive/My Drive/Colab Notebooks/Project_data/val ; batch size = 16\n",
            "4\n",
            "42/42 [==============================] - 120s 3s/step - loss: 4.0950 - categorical_accuracy: 0.2116 - val_loss: 2.8469 - val_categorical_accuracy: 0.2200\n",
            "\n",
            "Epoch 00001: saving model to model_init_2021-06-2809_02_55.385154/model-00001-3.55404-0.19608-2.84690-0.22000.h5\n",
            "Epoch 2/30\n",
            "40/42 [===========================>..] - ETA: 4s - loss: 2.6634 - categorical_accuracy: 0.22117\n",
            "42/42 [==============================] - ETA: 0s - loss: 2.6557 - categorical_accuracy: 0.22134\n",
            "42/42 [==============================] - 119s 3s/step - loss: 2.6521 - categorical_accuracy: 0.2214 - val_loss: 2.2114 - val_categorical_accuracy: 0.2100\n",
            "\n",
            "Epoch 00002: saving model to model_init_2021-06-2809_02_55.385154/model-00002-2.50102-0.22474-2.21136-0.21000.h5\n",
            "Epoch 3/30\n",
            "40/42 [===========================>..] - ETA: 4s - loss: 2.1015 - categorical_accuracy: 0.23957\n",
            "42/42 [==============================] - ETA: 0s - loss: 2.0973 - categorical_accuracy: 0.24214\n",
            "42/42 [==============================] - 116s 3s/step - loss: 2.0954 - categorical_accuracy: 0.2434 - val_loss: 1.7476 - val_categorical_accuracy: 0.3700\n",
            "\n",
            "Epoch 00003: saving model to model_init_2021-06-2809_02_55.385154/model-00003-2.01348-0.29563-1.74757-0.37000.h5\n",
            "Epoch 4/30\n",
            "40/42 [===========================>..] - ETA: 4s - loss: 1.7330 - categorical_accuracy: 0.34417\n",
            "42/42 [==============================] - ETA: 0s - loss: 1.7319 - categorical_accuracy: 0.34464\n",
            "42/42 [==============================] - 119s 3s/step - loss: 1.7315 - categorical_accuracy: 0.3448 - val_loss: 1.5490 - val_categorical_accuracy: 0.4300\n",
            "\n",
            "Epoch 00004: saving model to model_init_2021-06-2809_02_55.385154/model-00004-1.71091-0.35294-1.54895-0.43000.h5\n",
            "Epoch 5/30\n",
            "40/42 [===========================>..] - ETA: 4s - loss: 1.5372 - categorical_accuracy: 0.45017\n",
            "42/42 [==============================] - ETA: 0s - loss: 1.5337 - categorical_accuracy: 0.45124\n",
            "42/42 [==============================] - 115s 3s/step - loss: 1.5320 - categorical_accuracy: 0.4518 - val_loss: 1.4089 - val_categorical_accuracy: 0.5300\n",
            "\n",
            "Epoch 00005: saving model to model_init_2021-06-2809_02_55.385154/model-00005-1.46188-0.47662-1.40887-0.53000.h5\n",
            "Epoch 6/30\n",
            "40/42 [===========================>..] - ETA: 4s - loss: 1.3815 - categorical_accuracy: 0.47597\n",
            "42/42 [==============================] - ETA: 0s - loss: 1.3803 - categorical_accuracy: 0.47684\n",
            "42/42 [==============================] - 116s 3s/step - loss: 1.3797 - categorical_accuracy: 0.4772 - val_loss: 1.2280 - val_categorical_accuracy: 0.5700\n",
            "\n",
            "Epoch 00006: saving model to model_init_2021-06-2809_02_55.385154/model-00006-1.35517-0.49472-1.22796-0.57000.h5\n",
            "Epoch 7/30\n",
            "40/42 [===========================>..] - ETA: 4s - loss: 1.2077 - categorical_accuracy: 0.57067\n",
            "42/42 [==============================] - ETA: 0s - loss: 1.2093 - categorical_accuracy: 0.56994\n",
            "4\n",
            "42/42 [==============================] - 114s 3s/step - loss: 1.2101 - categorical_accuracy: 0.5696 - val_loss: 1.3213 - val_categorical_accuracy: 0.5500\n",
            "\n",
            "Epoch 00007: saving model to model_init_2021-06-2809_02_55.385154/model-00007-1.24246-0.55656-1.32133-0.55000.h5\n",
            "Epoch 8/30\n",
            "40/42 [===========================>..] - ETA: 4s - loss: 1.2108 - categorical_accuracy: 0.58387\n",
            "42/42 [==============================] - ETA: 0s - loss: 1.2103 - categorical_accuracy: 0.58424\n",
            "42/42 [==============================] - 117s 3s/step - loss: 1.2101 - categorical_accuracy: 0.5844 - val_loss: 1.1215 - val_categorical_accuracy: 0.6300\n",
            "\n",
            "Epoch 00008: saving model to model_init_2021-06-2809_02_55.385154/model-00008-1.20064-0.59125-1.12154-0.63000.h5\n",
            "Epoch 9/30\n",
            "40/42 [===========================>..] - ETA: 4s - loss: 1.1241 - categorical_accuracy: 0.62547\n",
            "42/42 [==============================] - ETA: 0s - loss: 1.1238 - categorical_accuracy: 0.62444\n",
            "42/42 [==============================] - 118s 3s/step - loss: 1.1237 - categorical_accuracy: 0.6239 - val_loss: 1.1095 - val_categorical_accuracy: 0.6600\n",
            "\n",
            "Epoch 00009: saving model to model_init_2021-06-2809_02_55.385154/model-00009-1.11637-0.60483-1.10946-0.66000.h5\n",
            "Epoch 10/30\n",
            "40/42 [===========================>..] - ETA: 5s - loss: 1.1427 - categorical_accuracy: 0.64017\n",
            "42/42 [==============================] - ETA: 0s - loss: 1.1421 - categorical_accuracy: 0.64024\n",
            "42/42 [==============================] - 124s 3s/step - loss: 1.1418 - categorical_accuracy: 0.6403 - val_loss: 1.1103 - val_categorical_accuracy: 0.6700\n",
            "\n",
            "Epoch 00010: saving model to model_init_2021-06-2809_02_55.385154/model-00010-1.12958-0.64103-1.11031-0.67000.h5\n",
            "Epoch 11/30\n",
            "40/42 [===========================>..] - ETA: 4s - loss: 1.1078 - categorical_accuracy: 0.64457\n",
            "42/42 [==============================] - ETA: 0s - loss: 1.1061 - categorical_accuracy: 0.64544\n",
            "42/42 [==============================] - 120s 3s/step - loss: 1.1053 - categorical_accuracy: 0.6458 - val_loss: 1.1332 - val_categorical_accuracy: 0.6900\n",
            "\n",
            "Epoch 00011: saving model to model_init_2021-06-2809_02_55.385154/model-00011-1.06954-0.66365-1.13321-0.69000.h5\n",
            "\n",
            "Epoch 00011: ReduceLROnPlateau reducing learning rate to 0.0005000000237487257.\n",
            "Epoch 12/30\n",
            "40/42 [===========================>..] - ETA: 4s - loss: 0.9623 - categorical_accuracy: 0.73057\n",
            "42/42 [==============================] - ETA: 0s - loss: 0.9605 - categorical_accuracy: 0.73134\n",
            "42/42 [==============================] - 117s 3s/step - loss: 0.9597 - categorical_accuracy: 0.7316 - val_loss: 1.0126 - val_categorical_accuracy: 0.6800\n",
            "\n",
            "Epoch 00012: saving model to model_init_2021-06-2809_02_55.385154/model-00012-0.92697-0.74510-1.01261-0.68000.h5\n",
            "Epoch 13/30\n",
            "40/42 [===========================>..] - ETA: 4s - loss: 0.8411 - categorical_accuracy: 0.77117\n",
            "42/42 [==============================] - ETA: 0s - loss: 0.8419 - categorical_accuracy: 0.77104\n",
            "42/42 [==============================] - 117s 3s/step - loss: 0.8423 - categorical_accuracy: 0.7709 - val_loss: 1.0334 - val_categorical_accuracy: 0.6600\n",
            "\n",
            "Epoch 00013: saving model to model_init_2021-06-2809_02_55.385154/model-00013-0.85771-0.76772-1.03339-0.66000.h5\n",
            "Epoch 14/30\n",
            "40/42 [===========================>..] - ETA: 4s - loss: 0.8770 - categorical_accuracy: 0.75917\n",
            "42/42 [==============================] - ETA: 0s - loss: 0.8773 - categorical_accuracy: 0.75844\n",
            "4\n",
            "42/42 [==============================] - 117s 3s/step - loss: 0.8775 - categorical_accuracy: 0.7580 - val_loss: 1.0454 - val_categorical_accuracy: 0.6500\n",
            "\n",
            "Epoch 00014: saving model to model_init_2021-06-2809_02_55.385154/model-00014-0.88438-0.74359-1.04543-0.65000.h5\n",
            "\n",
            "Epoch 00014: ReduceLROnPlateau reducing learning rate to 0.0002500000118743628.\n",
            "Epoch 15/30\n",
            "40/42 [===========================>..] - ETA: 4s - loss: 0.7785 - categorical_accuracy: 0.82057\n",
            "42/42 [==============================] - ETA: 0s - loss: 0.7781 - categorical_accuracy: 0.81994\n",
            "42/42 [==============================] - 115s 3s/step - loss: 0.7778 - categorical_accuracy: 0.8197 - val_loss: 1.0256 - val_categorical_accuracy: 0.6700\n",
            "\n",
            "Epoch 00015: saving model to model_init_2021-06-2809_02_55.385154/model-00015-0.76812-0.80845-1.02560-0.67000.h5\n",
            "Epoch 16/30\n",
            "40/42 [===========================>..] - ETA: 4s - loss: 0.6854 - categorical_accuracy: 0.83087\n",
            "42/42 [==============================] - ETA: 0s - loss: 0.6856 - categorical_accuracy: 0.83074\n",
            "42/42 [==============================] - 117s 3s/step - loss: 0.6856 - categorical_accuracy: 0.8307 - val_loss: 0.8905 - val_categorical_accuracy: 0.7200\n",
            "\n",
            "Epoch 00016: saving model to model_init_2021-06-2809_02_55.385154/model-00016-0.68924-0.82956-0.89055-0.72000.h5\n",
            "Epoch 17/30\n",
            "40/42 [===========================>..] - ETA: 4s - loss: 0.7580 - categorical_accuracy: 0.81037\n",
            "42/42 [==============================] - ETA: 0s - loss: 0.7550 - categorical_accuracy: 0.81124\n",
            "42/42 [==============================] - 116s 3s/step - loss: 0.7535 - categorical_accuracy: 0.8116 - val_loss: 0.9561 - val_categorical_accuracy: 0.6700\n",
            "\n",
            "Epoch 00017: saving model to model_init_2021-06-2809_02_55.385154/model-00017-0.69371-0.82956-0.95615-0.67000.h5\n",
            "Epoch 18/30\n",
            "40/42 [===========================>..] - ETA: 4s - loss: 0.6273 - categorical_accuracy: 0.86447\n",
            "42/42 [==============================] - ETA: 0s - loss: 0.6275 - categorical_accuracy: 0.86424\n",
            "42/42 [==============================] - 119s 3s/step - loss: 0.6276 - categorical_accuracy: 0.8641 - val_loss: 0.9366 - val_categorical_accuracy: 0.6800\n",
            "\n",
            "Epoch 00018: saving model to model_init_2021-06-2809_02_55.385154/model-00018-0.63281-0.85822-0.93657-0.68000.h5\n",
            "\n",
            "Epoch 00018: ReduceLROnPlateau reducing learning rate to 0.0001250000059371814.\n",
            "Epoch 19/30\n",
            "40/42 [===========================>..] - ETA: 4s - loss: 0.6191 - categorical_accuracy: 0.85177\n",
            "42/42 [==============================] - ETA: 0s - loss: 0.6195 - categorical_accuracy: 0.85144\n",
            "42/42 [==============================] - 117s 3s/step - loss: 0.6197 - categorical_accuracy: 0.8513 - val_loss: 0.8434 - val_categorical_accuracy: 0.7500\n",
            "\n",
            "Epoch 00019: saving model to model_init_2021-06-2809_02_55.385154/model-00019-0.62706-0.84465-0.84342-0.75000.h5\n",
            "Epoch 20/30\n",
            "40/42 [===========================>..] - ETA: 4s - loss: 0.5614 - categorical_accuracy: 0.86997\n",
            "42/42 [==============================] - ETA: 0s - loss: 0.5620 - categorical_accuracy: 0.86984\n",
            "42/42 [==============================] - 117s 3s/step - loss: 0.5623 - categorical_accuracy: 0.8697 - val_loss: 0.9465 - val_categorical_accuracy: 0.7200\n",
            "\n",
            "Epoch 00020: saving model to model_init_2021-06-2809_02_55.385154/model-00020-0.57418-0.86727-0.94652-0.72000.h5\n",
            "Epoch 21/30\n",
            "40/42 [===========================>..] - ETA: 4s - loss: 0.5326 - categorical_accuracy: 0.89567\n",
            "42/42 [==============================] - ETA: 0s - loss: 0.5350 - categorical_accuracy: 0.89384\n",
            "4\n",
            "42/42 [==============================] - 114s 3s/step - loss: 0.5362 - categorical_accuracy: 0.8930 - val_loss: 0.9296 - val_categorical_accuracy: 0.7500\n",
            "\n",
            "Epoch 00021: saving model to model_init_2021-06-2809_02_55.385154/model-00021-0.58434-0.85822-0.92964-0.75000.h5\n",
            "\n",
            "Epoch 00021: ReduceLROnPlateau reducing learning rate to 6.25000029685907e-05.\n",
            "Epoch 22/30\n",
            "40/42 [===========================>..] - ETA: 4s - loss: 0.5693 - categorical_accuracy: 0.88177\n",
            "42/42 [==============================] - ETA: 0s - loss: 0.5694 - categorical_accuracy: 0.88174\n",
            "42/42 [==============================] - 117s 3s/step - loss: 0.5694 - categorical_accuracy: 0.8817 - val_loss: 0.9378 - val_categorical_accuracy: 0.7200\n",
            "\n",
            "Epoch 00022: saving model to model_init_2021-06-2809_02_55.385154/model-00022-0.57082-0.88084-0.93783-0.72000.h5\n",
            "Epoch 23/30\n",
            "40/42 [===========================>..] - ETA: 4s - loss: 0.5773 - categorical_accuracy: 0.87077\n",
            "42/42 [==============================] - ETA: 0s - loss: 0.5776 - categorical_accuracy: 0.87034\n",
            "42/42 [==============================] - 117s 3s/step - loss: 0.5777 - categorical_accuracy: 0.8701 - val_loss: 0.9007 - val_categorical_accuracy: 0.6900\n",
            "\n",
            "Epoch 00023: saving model to model_init_2021-06-2809_02_55.385154/model-00023-0.58218-0.86124-0.90073-0.69000.h5\n",
            "\n",
            "Epoch 00023: ReduceLROnPlateau reducing learning rate to 3.125000148429535e-05.\n",
            "Epoch 24/30\n",
            "40/42 [===========================>..] - ETA: 4s - loss: 0.5583 - categorical_accuracy: 0.89247\n",
            "42/42 [==============================] - ETA: 0s - loss: 0.5580 - categorical_accuracy: 0.89234\n",
            "42/42 [==============================] - 116s 3s/step - loss: 0.5579 - categorical_accuracy: 0.8923 - val_loss: 0.8835 - val_categorical_accuracy: 0.7200\n",
            "\n",
            "Epoch 00024: saving model to model_init_2021-06-2809_02_55.385154/model-00024-0.55323-0.89140-0.88352-0.72000.h5\n",
            "Epoch 25/30\n",
            "40/42 [===========================>..] - ETA: 4s - loss: 0.5631 - categorical_accuracy: 0.86027\n",
            "42/42 [==============================] - ETA: 0s - loss: 0.5610 - categorical_accuracy: 0.86134\n",
            "42/42 [==============================] - 115s 3s/step - loss: 0.5600 - categorical_accuracy: 0.8619 - val_loss: 0.9259 - val_categorical_accuracy: 0.7300\n",
            "\n",
            "Epoch 00025: saving model to model_init_2021-06-2809_02_55.385154/model-00025-0.51791-0.88537-0.92589-0.73000.h5\n",
            "\n",
            "Epoch 00025: ReduceLROnPlateau reducing learning rate to 1.5625000742147677e-05.\n",
            "Epoch 26/30\n",
            "40/42 [===========================>..] - ETA: 4s - loss: 0.5099 - categorical_accuracy: 0.88277\n",
            "42/42 [==============================] - ETA: 0s - loss: 0.5109 - categorical_accuracy: 0.88284\n",
            "42/42 [==============================] - 118s 3s/step - loss: 0.5114 - categorical_accuracy: 0.8827 - val_loss: 0.8859 - val_categorical_accuracy: 0.7400\n",
            "\n",
            "Epoch 00026: saving model to model_init_2021-06-2809_02_55.385154/model-00026-0.53351-0.88235-0.88594-0.74000.h5\n",
            "Epoch 27/30\n",
            "40/42 [===========================>..] - ETA: 4s - loss: 0.4831 - categorical_accuracy: 0.90507\n",
            "42/42 [==============================] - ETA: 0s - loss: 0.4845 - categorical_accuracy: 0.90454\n",
            "42/42 [==============================] - 117s 3s/step - loss: 0.4852 - categorical_accuracy: 0.9043 - val_loss: 0.9164 - val_categorical_accuracy: 0.7100\n",
            "\n",
            "Epoch 00027: saving model to model_init_2021-06-2809_02_55.385154/model-00027-0.51306-0.89442-0.91641-0.71000.h5\n",
            "\n",
            "Epoch 00027: ReduceLROnPlateau reducing learning rate to 7.812500371073838e-06.\n",
            "Epoch 28/30\n",
            "40/42 [===========================>..] - ETA: 4s - loss: 0.5256 - categorical_accuracy: 0.90357\n",
            "42/42 [==============================] - ETA: 0s - loss: 0.5254 - categorical_accuracy: 0.90364\n",
            "4\n",
            "42/42 [==============================] - 113s 3s/step - loss: 0.5253 - categorical_accuracy: 0.9037 - val_loss: 0.9210 - val_categorical_accuracy: 0.7200\n",
            "\n",
            "Epoch 00028: saving model to model_init_2021-06-2809_02_55.385154/model-00028-0.52134-0.90649-0.92098-0.72000.h5\n",
            "Epoch 29/30\n",
            "40/42 [===========================>..] - ETA: 4s - loss: 0.5236 - categorical_accuracy: 0.89187\n",
            "42/42 [==============================] - ETA: 0s - loss: 0.5236 - categorical_accuracy: 0.89184\n",
            "42/42 [==============================] - 116s 3s/step - loss: 0.5236 - categorical_accuracy: 0.8918 - val_loss: 0.8873 - val_categorical_accuracy: 0.7100\n",
            "\n",
            "Epoch 00029: saving model to model_init_2021-06-2809_02_55.385154/model-00029-0.52354-0.89140-0.88726-0.71000.h5\n",
            "\n",
            "Epoch 00029: ReduceLROnPlateau reducing learning rate to 3.906250185536919e-06.\n",
            "Epoch 30/30\n",
            "40/42 [===========================>..] - ETA: 4s - loss: 0.5383 - categorical_accuracy: 0.88777\n",
            "42/42 [==============================] - ETA: 0s - loss: 0.5371 - categorical_accuracy: 0.88804\n",
            "42/42 [==============================] - 116s 3s/step - loss: 0.5366 - categorical_accuracy: 0.8882 - val_loss: 0.9027 - val_categorical_accuracy: 0.7100\n",
            "\n",
            "Epoch 00030: saving model to model_init_2021-06-2809_02_55.385154/model-00030-0.51360-0.89593-0.90272-0.71000.h5\n"
          ],
          "name": "stdout"
        }
      ]
    },
    {
      "cell_type": "code",
      "metadata": {
        "colab": {
          "base_uri": "https://localhost:8080/",
          "height": 498
        },
        "id": "a73g7jU1UVtL",
        "outputId": "a8697684-1e65-41dd-b69b-dd4e21ec4766"
      },
      "source": [
        "acc = history2.history['categorical_accuracy']\n",
        "val_acc = history2.history['val_categorical_accuracy']\n",
        "\n",
        "loss = history2.history['loss']\n",
        "val_loss = history2.history['val_loss']\n",
        "\n",
        "epochs_range = range(num_epochs)\n",
        "\n",
        "plt.figure(figsize=(8, 8))\n",
        "plt.subplot(1, 2, 1)\n",
        "plt.plot(epochs_range, acc, label='Training Accuracy')\n",
        "plt.plot(epochs_range, val_acc, label='Validation Accuracy')\n",
        "plt.legend(loc='lower right')\n",
        "plt.title('Training and Validation Accuracy')\n",
        "\n",
        "plt.subplot(1, 2, 2)\n",
        "plt.plot(epochs_range, loss, label='Training Loss')\n",
        "plt.plot(epochs_range, val_loss, label='Validation Loss')\n",
        "plt.legend(loc='upper right')\n",
        "plt.title('Training and Validation Loss')\n",
        "plt.show()"
      ],
      "execution_count": 17,
      "outputs": [
        {
          "output_type": "display_data",
          "data": {
            "image/png": "[encoded data removed]",
            "text/plain": [
              "<Figure size 576x576 with 2 Axes>"
            ]
          },
          "metadata": {
            "tags": [],
            "needs_background": "light"
          }
        }
      ]
    },
    {
      "cell_type": "markdown",
      "metadata": {
        "id": "8_1-n-TR2mM-"
      },
      "source": [
        "### Model 3 - Conv3D\n",
        "\n",
        "- Adding l2 regularisation to avoid overfitting.\n",
        "- Increasing dropout and number of epochs to increase the stability.\n"
      ]
    },
    {
      "cell_type": "code",
      "metadata": {
        "colab": {
          "base_uri": "https://localhost:8080/"
        },
        "id": "UoV3HpeoWv4r",
        "outputId": "40a272ed-d2c2-4f63-d8a9-f0bef1272826"
      },
      "source": [
        "curr_dt_time = datetime.datetime.now()\n",
        "train_path = '/content/gdrive/My Drive/Colab Notebooks/Project_data/train'\n",
        "val_path = '/content/gdrive/My Drive/Colab Notebooks/Project_data/val'\n",
        "num_train_sequences = len(train_doc)\n",
        "print('# training sequences =', num_train_sequences)\n",
        "num_val_sequences = len(val_doc)\n",
        "print('# validation sequences =', num_val_sequences)\n",
        "num_epochs = 40 # choose the number of epochs\n",
        "print ('# epochs =', num_epochs)\n",
        "\n",
        "model3 = Sequential()\n",
        "model3.add(Conv3D(16, (3,3,3), padding='same', input_shape=(15,100,100,3)))\n",
        "model.add(BatchNormalization())\n",
        "model3.add(Activation('relu'))\n",
        "model3.add(MaxPooling3D(pool_size=(2, 2,2)))\n",
        "model3.add(Dropout(0.3))\n",
        "\n",
        "\n",
        "model3.add(Conv3D(32, (3, 3,3), padding='same'))\n",
        "model.add(BatchNormalization())\n",
        "model3.add(Activation('relu'))\n",
        "model3.add(MaxPooling3D(pool_size=(2, 2,2)))\n",
        "model3.add(Dropout(0.3))\n",
        "\n",
        "model3.add(Conv3D(64, (3, 3,3), padding='same'))\n",
        "model.add(BatchNormalization())\n",
        "model.add(Activation('relu'))\n",
        "model3.add(MaxPooling3D(pool_size=(2, 2,2)))\n",
        "model3.add(Dropout(0.3))\n",
        "\n",
        "\n",
        "\n",
        "model3.add(Flatten())\n",
        "model3.add(Dense(64,kernel_regularizer=l2(0.1)))\n",
        "model3.add(Activation('relu'))\n",
        "model3.add(Dropout(0.4))\n",
        "model3.add(Dense(128,kernel_regularizer=l2(0.01)))\n",
        "model3.add(Activation('relu'))\n",
        "model3.add(Dropout(0.4))\n",
        "\n",
        "model3.add(Dense(5))\n",
        "model3.add(Activation('softmax'))\n",
        "\n",
        "learning_rate = 0.001\n",
        "optimiser = keras.optimizers.Adam(lr=learning_rate) #write your optimizer\n",
        "model3.compile(optimizer=optimiser, loss='categorical_crossentropy', metrics=['categorical_accuracy'])\n",
        "print (model3.summary())"
      ],
      "execution_count": 18,
      "outputs": [
        {
          "output_type": "stream",
          "text": [
            "# training sequences = 663\n",
            "# validation sequences = 100\n",
            "# epochs = 40\n",
            "Model: \"sequential_2\"\n",
            "_________________________________________________________________\n",
            "Layer (type)                 Output Shape              Param #   \n",
            "=================================================================\n",
            "conv3d_6 (Conv3D)            (None, 15, 100, 100, 16)  1312      \n",
            "_________________________________________________________________\n",
            "activation_12 (Activation)   (None, 15, 100, 100, 16)  0         \n",
            "_________________________________________________________________\n",
            "max_pooling3d_6 (MaxPooling3 (None, 7, 50, 50, 16)     0         \n",
            "_________________________________________________________________\n",
            "dropout_9 (Dropout)          (None, 7, 50, 50, 16)     0         \n",
            "_________________________________________________________________\n",
            "conv3d_7 (Conv3D)            (None, 7, 50, 50, 32)     13856     \n",
            "_________________________________________________________________\n",
            "activation_13 (Activation)   (None, 7, 50, 50, 32)     0         \n",
            "_________________________________________________________________\n",
            "max_pooling3d_7 (MaxPooling3 (None, 3, 25, 25, 32)     0         \n",
            "_________________________________________________________________\n",
            "dropout_10 (Dropout)         (None, 3, 25, 25, 32)     0         \n",
            "_________________________________________________________________\n",
            "conv3d_8 (Conv3D)            (None, 3, 25, 25, 64)     55360     \n",
            "_________________________________________________________________\n",
            "max_pooling3d_8 (MaxPooling3 (None, 1, 12, 12, 64)     0         \n",
            "_________________________________________________________________\n",
            "dropout_11 (Dropout)         (None, 1, 12, 12, 64)     0         \n",
            "_________________________________________________________________\n",
            "flatten_2 (Flatten)          (None, 9216)              0         \n",
            "_________________________________________________________________\n",
            "dense_6 (Dense)              (None, 64)                589888    \n",
            "_________________________________________________________________\n",
            "activation_15 (Activation)   (None, 64)                0         \n",
            "_________________________________________________________________\n",
            "dropout_12 (Dropout)         (None, 64)                0         \n",
            "_________________________________________________________________\n",
            "dense_7 (Dense)              (None, 128)               8320      \n",
            "_________________________________________________________________\n",
            "activation_16 (Activation)   (None, 128)               0         \n",
            "_________________________________________________________________\n",
            "dropout_13 (Dropout)         (None, 128)               0         \n",
            "_________________________________________________________________\n",
            "dense_8 (Dense)              (None, 5)                 645       \n",
            "_________________________________________________________________\n",
            "activation_17 (Activation)   (None, 5)                 0         \n",
            "=================================================================\n",
            "Total params: 669,381\n",
            "Trainable params: 669,381\n",
            "Non-trainable params: 0\n",
            "_________________________________________________________________\n",
            "None\n"
          ],
          "name": "stdout"
        },
        {
          "output_type": "stream",
          "text": [
            "/usr/local/lib/python3.7/dist-packages/tensorflow/python/keras/optimizer_v2/optimizer_v2.py:375: UserWarning: The `lr` argument is deprecated, use `learning_rate` instead.\n",
            "  \"The `lr` argument is deprecated, use `learning_rate` instead.\")\n"
          ],
          "name": "stderr"
        }
      ]
    },
    {
      "cell_type": "code",
      "metadata": {
        "colab": {
          "base_uri": "https://localhost:8080/"
        },
        "id": "6omdvhQ2mLVr",
        "outputId": "1ff0c364-6f7b-4b08-baa6-d21c68b5013f"
      },
      "source": [
        "train_generator = generator(train_path, train_doc, batch_size)\n",
        "val_generator = generator(val_path, val_doc, batch_size)\n",
        "\n",
        "model_name = 'model_init' + '_' + str(curr_dt_time).replace(' ','').replace(':','_') + '/'\n",
        "    \n",
        "if not os.path.exists(model_name):\n",
        "    os.mkdir(model_name)\n",
        "        \n",
        "filepath = model_name + 'model-{epoch:05d}-{loss:.5f}-{categorical_accuracy:.5f}-{val_loss:.5f}-{val_categorical_accuracy:.5f}.h5'\n",
        "\n",
        "checkpoint = ModelCheckpoint(filepath, monitor='val_loss', verbose=1, save_best_only=False, save_weights_only=False, mode='auto', period=1)\n",
        "\n",
        "LR = ReduceLROnPlateau(monitor='val_loss', factor=0.5, patience=2, cooldown=1, verbose=1)# write the REducelronplateau code here\n",
        "callbacks_list = [checkpoint, LR]\n",
        "\n",
        "if (num_train_sequences%batch_size) == 0:\n",
        "    steps_per_epoch = int(num_train_sequences/batch_size)\n",
        "else:\n",
        "    steps_per_epoch = (num_train_sequences//batch_size) + 1\n",
        "\n",
        "if (num_val_sequences%batch_size) == 0:\n",
        "    validation_steps = int(num_val_sequences/batch_size)\n",
        "else:\n",
        "    validation_steps = (num_val_sequences//batch_size) + 1\n",
        "\n",
        "\n",
        "history3 = model3.fit_generator(train_generator, steps_per_epoch=steps_per_epoch, epochs=num_epochs, verbose=1, \n",
        "                    callbacks=callbacks_list, validation_data=val_generator, \n",
        "                    validation_steps=validation_steps, class_weight=None, workers=1, initial_epoch=0)"
      ],
      "execution_count": 19,
      "outputs": [
        {
          "output_type": "stream",
          "text": [
            "WARNING:tensorflow:`period` argument is deprecated. Please use `save_freq` to specify the frequency in number of batches seen.\n",
            "Source path =  /content/gdrive/My Drive/Colab Notebooks/Project_data/train ; batch size = 16\n"
          ],
          "name": "stdout"
        },
        {
          "output_type": "stream",
          "text": [
            "/usr/local/lib/python3.7/dist-packages/keras/engine/training.py:1915: UserWarning: `Model.fit_generator` is deprecated and will be removed in a future version. Please use `Model.fit`, which supports generators.\n",
            "  warnings.warn('`Model.fit_generator` is deprecated and '\n"
          ],
          "name": "stderr"
        },
        {
          "output_type": "stream",
          "text": [
            "Epoch 1/40\n",
            "40/42 [===========================>..] - ETA: 4s - loss: 10.0902 - categorical_accuracy: 0.20497\n",
            "42/42 [==============================] - ETA: 0s - loss: 9.9229 - categorical_accuracy: 0.2051 Source path =  /content/gdrive/My Drive/Colab Notebooks/Project_data/val ; batch size = 16\n",
            "4\n",
            "42/42 [==============================] - 121s 3s/step - loss: 9.8446 - categorical_accuracy: 0.2053 - val_loss: 2.7011 - val_categorical_accuracy: 0.3200\n",
            "\n",
            "Epoch 00001: saving model to model_init_2021-06-2810_02_53.505325/model-00001-6.55538-0.21116-2.70113-0.32000.h5\n",
            "Epoch 2/40\n",
            "40/42 [===========================>..] - ETA: 4s - loss: 2.4566 - categorical_accuracy: 0.25367\n",
            "42/42 [==============================] - ETA: 0s - loss: 2.4489 - categorical_accuracy: 0.25364\n",
            "42/42 [==============================] - 120s 3s/step - loss: 2.4452 - categorical_accuracy: 0.2537 - val_loss: 2.0171 - val_categorical_accuracy: 0.3600\n",
            "\n",
            "Epoch 00002: saving model to model_init_2021-06-2810_02_53.505325/model-00002-2.29234-0.25490-2.01713-0.36000.h5\n",
            "Epoch 3/40\n",
            "40/42 [===========================>..] - ETA: 4s - loss: 2.0063 - categorical_accuracy: 0.26817\n",
            "42/42 [==============================] - ETA: 0s - loss: 2.0038 - categorical_accuracy: 0.27034\n",
            "42/42 [==============================] - 121s 3s/step - loss: 2.0027 - categorical_accuracy: 0.2713 - val_loss: 1.8819 - val_categorical_accuracy: 0.4200\n",
            "\n",
            "Epoch 00003: saving model to model_init_2021-06-2810_02_53.505325/model-00003-1.95391-0.31523-1.88189-0.42000.h5\n",
            "Epoch 4/40\n",
            "40/42 [===========================>..] - ETA: 4s - loss: 1.8705 - categorical_accuracy: 0.35687\n",
            "42/42 [==============================] - ETA: 0s - loss: 1.8683 - categorical_accuracy: 0.35784\n",
            "42/42 [==============================] - 120s 3s/step - loss: 1.8672 - categorical_accuracy: 0.3582 - val_loss: 1.5859 - val_categorical_accuracy: 0.4400\n",
            "\n",
            "Epoch 00004: saving model to model_init_2021-06-2810_02_53.505325/model-00004-1.82315-0.37557-1.58595-0.44000.h5\n",
            "Epoch 5/40\n",
            "40/42 [===========================>..] - ETA: 4s - loss: 1.8328 - categorical_accuracy: 0.37947\n",
            "42/42 [==============================] - ETA: 0s - loss: 1.8294 - categorical_accuracy: 0.38084\n",
            "42/42 [==============================] - 118s 3s/step - loss: 1.8278 - categorical_accuracy: 0.3814 - val_loss: 1.5745 - val_categorical_accuracy: 0.4800\n",
            "\n",
            "Epoch 00005: saving model to model_init_2021-06-2810_02_53.505325/model-00005-1.76067-0.40875-1.57446-0.48000.h5\n",
            "Epoch 6/40\n",
            "40/42 [===========================>..] - ETA: 4s - loss: 1.6928 - categorical_accuracy: 0.37857\n",
            "42/42 [==============================] - ETA: 0s - loss: 1.6921 - categorical_accuracy: 0.37844\n",
            "42/42 [==============================] - 116s 3s/step - loss: 1.6917 - categorical_accuracy: 0.3783 - val_loss: 1.5510 - val_categorical_accuracy: 0.4700\n",
            "\n",
            "Epoch 00006: saving model to model_init_2021-06-2810_02_53.505325/model-00006-1.67750-0.37707-1.55105-0.47000.h5\n",
            "Epoch 7/40\n",
            "40/42 [===========================>..] - ETA: 4s - loss: 1.6357 - categorical_accuracy: 0.46047\n",
            "42/42 [==============================] - ETA: 0s - loss: 1.6362 - categorical_accuracy: 0.46004\n",
            "4\n",
            "42/42 [==============================] - 115s 3s/step - loss: 1.6365 - categorical_accuracy: 0.4597 - val_loss: 1.5555 - val_categorical_accuracy: 0.4900\n",
            "\n",
            "Epoch 00007: saving model to model_init_2021-06-2810_02_53.505325/model-00007-1.64821-0.44947-1.55550-0.49000.h5\n",
            "Epoch 8/40\n",
            "40/42 [===========================>..] - ETA: 4s - loss: 1.6980 - categorical_accuracy: 0.40107\n",
            "42/42 [==============================] - ETA: 0s - loss: 1.6950 - categorical_accuracy: 0.40164\n",
            "42/42 [==============================] - 117s 3s/step - loss: 1.6937 - categorical_accuracy: 0.4019 - val_loss: 1.5857 - val_categorical_accuracy: 0.3800\n",
            "\n",
            "Epoch 00008: saving model to model_init_2021-06-2810_02_53.505325/model-00008-1.63719-0.41478-1.58569-0.38000.h5\n",
            "\n",
            "Epoch 00008: ReduceLROnPlateau reducing learning rate to 0.0005000000237487257.\n",
            "Epoch 9/40\n",
            "40/42 [===========================>..] - ETA: 4s - loss: 1.5243 - categorical_accuracy: 0.48277\n",
            "42/42 [==============================] - ETA: 0s - loss: 1.5223 - categorical_accuracy: 0.48194\n",
            "42/42 [==============================] - 117s 3s/step - loss: 1.5214 - categorical_accuracy: 0.4815 - val_loss: 1.3682 - val_categorical_accuracy: 0.5400\n",
            "\n",
            "Epoch 00009: saving model to model_init_2021-06-2810_02_53.505325/model-00009-1.48180-0.46606-1.36818-0.54000.h5\n",
            "Epoch 10/40\n",
            "40/42 [===========================>..] - ETA: 4s - loss: 1.3906 - categorical_accuracy: 0.48117\n",
            "42/42 [==============================] - ETA: 0s - loss: 1.3912 - categorical_accuracy: 0.48054\n",
            "42/42 [==============================] - 116s 3s/step - loss: 1.3914 - categorical_accuracy: 0.4803 - val_loss: 1.3162 - val_categorical_accuracy: 0.5800\n",
            "\n",
            "Epoch 00010: saving model to model_init_2021-06-2810_02_53.505325/model-00010-1.40112-0.46908-1.31617-0.58000.h5\n",
            "Epoch 11/40\n",
            "40/42 [===========================>..] - ETA: 4s - loss: 1.3893 - categorical_accuracy: 0.49487\n",
            "42/42 [==============================] - ETA: 0s - loss: 1.3892 - categorical_accuracy: 0.49564\n",
            "42/42 [==============================] - 117s 3s/step - loss: 1.3891 - categorical_accuracy: 0.4959 - val_loss: 1.3970 - val_categorical_accuracy: 0.5000\n",
            "\n",
            "Epoch 00011: saving model to model_init_2021-06-2810_02_53.505325/model-00011-1.38651-0.51131-1.39701-0.50000.h5\n",
            "Epoch 12/40\n",
            "40/42 [===========================>..] - ETA: 4s - loss: 1.2937 - categorical_accuracy: 0.55867\n",
            "42/42 [==============================] - ETA: 0s - loss: 1.2948 - categorical_accuracy: 0.55714\n",
            "42/42 [==============================] - 119s 3s/step - loss: 1.2953 - categorical_accuracy: 0.5565 - val_loss: 1.4565 - val_categorical_accuracy: 0.4200\n",
            "\n",
            "Epoch 00012: saving model to model_init_2021-06-2810_02_53.505325/model-00012-1.31663-0.52790-1.45651-0.42000.h5\n",
            "\n",
            "Epoch 00012: ReduceLROnPlateau reducing learning rate to 0.0002500000118743628.\n",
            "Epoch 13/40\n",
            "40/42 [===========================>..] - ETA: 4s - loss: 1.3030 - categorical_accuracy: 0.54157\n",
            "42/42 [==============================] - ETA: 0s - loss: 1.3019 - categorical_accuracy: 0.54244\n",
            "42/42 [==============================] - 118s 3s/step - loss: 1.3014 - categorical_accuracy: 0.5429 - val_loss: 1.2896 - val_categorical_accuracy: 0.5200\n",
            "\n",
            "Epoch 00013: saving model to model_init_2021-06-2810_02_53.505325/model-00013-1.27962-0.56109-1.28960-0.52000.h5\n",
            "Epoch 14/40\n",
            "40/42 [===========================>..] - ETA: 4s - loss: 1.2001 - categorical_accuracy: 0.59047\n",
            "42/42 [==============================] - ETA: 0s - loss: 1.2018 - categorical_accuracy: 0.58954\n",
            "4\n",
            "42/42 [==============================] - 116s 3s/step - loss: 1.2025 - categorical_accuracy: 0.5891 - val_loss: 1.3175 - val_categorical_accuracy: 0.5100\n",
            "\n",
            "Epoch 00014: saving model to model_init_2021-06-2810_02_53.505325/model-00014-1.23472-0.57315-1.31754-0.51000.h5\n",
            "Epoch 15/40\n",
            "40/42 [===========================>..] - ETA: 4s - loss: 1.2234 - categorical_accuracy: 0.63157\n",
            "42/42 [==============================] - ETA: 0s - loss: 1.2237 - categorical_accuracy: 0.63094\n",
            "42/42 [==============================] - 117s 3s/step - loss: 1.2239 - categorical_accuracy: 0.6306 - val_loss: 1.2227 - val_categorical_accuracy: 0.5600\n",
            "\n",
            "Epoch 00015: saving model to model_init_2021-06-2810_02_53.505325/model-00015-1.22840-0.61991-1.22267-0.56000.h5\n",
            "Epoch 16/40\n",
            "40/42 [===========================>..] - ETA: 4s - loss: 1.1859 - categorical_accuracy: 0.62467\n",
            "42/42 [==============================] - ETA: 0s - loss: 1.1859 - categorical_accuracy: 0.62354\n",
            "42/42 [==============================] - 118s 3s/step - loss: 1.1859 - categorical_accuracy: 0.6230 - val_loss: 1.2023 - val_categorical_accuracy: 0.6100\n",
            "\n",
            "Epoch 00016: saving model to model_init_2021-06-2810_02_53.505325/model-00016-1.18558-0.60030-1.20229-0.61000.h5\n",
            "Epoch 17/40\n",
            "40/42 [===========================>..] - ETA: 4s - loss: 1.2304 - categorical_accuracy: 0.65817\n",
            "42/42 [==============================] - ETA: 0s - loss: 1.2284 - categorical_accuracy: 0.65814\n",
            "42/42 [==============================] - 118s 3s/step - loss: 1.2274 - categorical_accuracy: 0.6582 - val_loss: 1.2934 - val_categorical_accuracy: 0.5500\n",
            "\n",
            "Epoch 00017: saving model to model_init_2021-06-2810_02_53.505325/model-00017-1.18625-0.66063-1.29344-0.55000.h5\n",
            "Epoch 18/40\n",
            "40/42 [===========================>..] - ETA: 4s - loss: 1.1709 - categorical_accuracy: 0.64877\n",
            "42/42 [==============================] - ETA: 0s - loss: 1.1694 - categorical_accuracy: 0.64914\n",
            "42/42 [==============================] - 118s 3s/step - loss: 1.1686 - categorical_accuracy: 0.6493 - val_loss: 1.1383 - val_categorical_accuracy: 0.6800\n",
            "\n",
            "Epoch 00018: saving model to model_init_2021-06-2810_02_53.505325/model-00018-1.13737-0.65762-1.13832-0.68000.h5\n",
            "Epoch 19/40\n",
            "40/42 [===========================>..] - ETA: 4s - loss: 1.1134 - categorical_accuracy: 0.67437\n",
            "42/42 [==============================] - ETA: 0s - loss: 1.1139 - categorical_accuracy: 0.67384\n",
            "42/42 [==============================] - 117s 3s/step - loss: 1.1142 - categorical_accuracy: 0.6735 - val_loss: 1.1902 - val_categorical_accuracy: 0.6200\n",
            "\n",
            "Epoch 00019: saving model to model_init_2021-06-2810_02_53.505325/model-00019-1.12529-0.66214-1.19025-0.62000.h5\n",
            "Epoch 20/40\n",
            "40/42 [===========================>..] - ETA: 4s - loss: 1.1167 - categorical_accuracy: 0.67177\n",
            "42/42 [==============================] - ETA: 0s - loss: 1.1170 - categorical_accuracy: 0.67224\n",
            "42/42 [==============================] - 118s 3s/step - loss: 1.1172 - categorical_accuracy: 0.6724 - val_loss: 1.1600 - val_categorical_accuracy: 0.7300\n",
            "\n",
            "Epoch 00020: saving model to model_init_2021-06-2810_02_53.505325/model-00020-1.12257-0.68326-1.15998-0.73000.h5\n",
            "\n",
            "Epoch 00020: ReduceLROnPlateau reducing learning rate to 0.0001250000059371814.\n",
            "Epoch 21/40\n",
            "40/42 [===========================>..] - ETA: 4s - loss: 0.9766 - categorical_accuracy: 0.78987\n",
            "42/42 [==============================] - ETA: 0s - loss: 0.9787 - categorical_accuracy: 0.78794\n",
            "4\n",
            "42/42 [==============================] - 115s 3s/step - loss: 0.9798 - categorical_accuracy: 0.7870 - val_loss: 1.0714 - val_categorical_accuracy: 0.7300\n",
            "\n",
            "Epoch 00021: saving model to model_init_2021-06-2810_02_53.505325/model-00021-1.02441-0.74811-1.07138-0.73000.h5\n",
            "Epoch 22/40\n",
            "40/42 [===========================>..] - ETA: 4s - loss: 0.9477 - categorical_accuracy: 0.79437\n",
            "42/42 [==============================] - ETA: 0s - loss: 0.9497 - categorical_accuracy: 0.79274\n",
            "42/42 [==============================] - 118s 3s/step - loss: 0.9506 - categorical_accuracy: 0.7920 - val_loss: 1.0451 - val_categorical_accuracy: 0.7100\n",
            "\n",
            "Epoch 00022: saving model to model_init_2021-06-2810_02_53.505325/model-00022-0.98919-0.76169-1.04511-0.71000.h5\n",
            "Epoch 23/40\n",
            "40/42 [===========================>..] - ETA: 4s - loss: 0.9533 - categorical_accuracy: 0.75777\n",
            "42/42 [==============================] - ETA: 0s - loss: 0.9534 - categorical_accuracy: 0.75754\n",
            "42/42 [==============================] - 116s 3s/step - loss: 0.9535 - categorical_accuracy: 0.7573 - val_loss: 1.0605 - val_categorical_accuracy: 0.7300\n",
            "\n",
            "Epoch 00023: saving model to model_init_2021-06-2810_02_53.505325/model-00023-0.95488-0.75264-1.06052-0.73000.h5\n",
            "Epoch 24/40\n",
            "40/42 [===========================>..] - ETA: 4s - loss: 0.8928 - categorical_accuracy: 0.78217\n",
            "42/42 [==============================] - ETA: 0s - loss: 0.8941 - categorical_accuracy: 0.78114\n",
            "42/42 [==============================] - 117s 3s/step - loss: 0.8947 - categorical_accuracy: 0.7807 - val_loss: 0.9881 - val_categorical_accuracy: 0.7800\n",
            "\n",
            "Epoch 00024: saving model to model_init_2021-06-2810_02_53.505325/model-00024-0.92087-0.76169-0.98812-0.78000.h5\n",
            "Epoch 25/40\n",
            "40/42 [===========================>..] - ETA: 4s - loss: 0.8926 - categorical_accuracy: 0.79027\n",
            "42/42 [==============================] - ETA: 0s - loss: 0.8936 - categorical_accuracy: 0.78964\n",
            "42/42 [==============================] - 117s 3s/step - loss: 0.8941 - categorical_accuracy: 0.7894 - val_loss: 1.1070 - val_categorical_accuracy: 0.7400\n",
            "\n",
            "Epoch 00025: saving model to model_init_2021-06-2810_02_53.505325/model-00025-0.91217-0.77979-1.10700-0.74000.h5\n",
            "Epoch 26/40\n",
            "40/42 [===========================>..] - ETA: 4s - loss: 0.8814 - categorical_accuracy: 0.77977\n",
            "42/42 [==============================] - ETA: 0s - loss: 0.8809 - categorical_accuracy: 0.78034\n",
            "42/42 [==============================] - 117s 3s/step - loss: 0.8807 - categorical_accuracy: 0.7806 - val_loss: 0.9812 - val_categorical_accuracy: 0.6900\n",
            "\n",
            "Epoch 00026: saving model to model_init_2021-06-2810_02_53.505325/model-00026-0.87049-0.79336-0.98122-0.69000.h5\n",
            "Epoch 27/40\n",
            "40/42 [===========================>..] - ETA: 4s - loss: 0.8755 - categorical_accuracy: 0.80277\n",
            "42/42 [==============================] - ETA: 0s - loss: 0.8754 - categorical_accuracy: 0.80264\n",
            "42/42 [==============================] - 122s 3s/step - loss: 0.8754 - categorical_accuracy: 0.8026 - val_loss: 1.0702 - val_categorical_accuracy: 0.6800\n",
            "\n",
            "Epoch 00027: saving model to model_init_2021-06-2810_02_53.505325/model-00027-0.87400-0.80090-1.07018-0.68000.h5\n",
            "Epoch 28/40\n",
            "40/42 [===========================>..] - ETA: 4s - loss: 0.8579 - categorical_accuracy: 0.81117\n",
            "42/42 [==============================] - ETA: 0s - loss: 0.8591 - categorical_accuracy: 0.81024\n",
            "4\n",
            "42/42 [==============================] - 118s 3s/step - loss: 0.8597 - categorical_accuracy: 0.8097 - val_loss: 1.0129 - val_categorical_accuracy: 0.7100\n",
            "\n",
            "Epoch 00028: saving model to model_init_2021-06-2810_02_53.505325/model-00028-0.88389-0.79186-1.01290-0.71000.h5\n",
            "\n",
            "Epoch 00028: ReduceLROnPlateau reducing learning rate to 6.25000029685907e-05.\n",
            "Epoch 29/40\n",
            "40/42 [===========================>..] - ETA: 4s - loss: 0.8036 - categorical_accuracy: 0.83937\n",
            "42/42 [==============================] - ETA: 0s - loss: 0.8039 - categorical_accuracy: 0.83914\n",
            "42/42 [==============================] - 117s 3s/step - loss: 0.8041 - categorical_accuracy: 0.8390 - val_loss: 1.0119 - val_categorical_accuracy: 0.7300\n",
            "\n",
            "Epoch 00029: saving model to model_init_2021-06-2810_02_53.505325/model-00029-0.81014-0.83560-1.01195-0.73000.h5\n",
            "Epoch 30/40\n",
            "40/42 [===========================>..] - ETA: 4s - loss: 0.7728 - categorical_accuracy: 0.84997\n",
            "42/42 [==============================] - ETA: 0s - loss: 0.7727 - categorical_accuracy: 0.85024\n",
            "42/42 [==============================] - 121s 3s/step - loss: 0.7726 - categorical_accuracy: 0.8504 - val_loss: 0.9361 - val_categorical_accuracy: 0.7100\n",
            "\n",
            "Epoch 00030: saving model to model_init_2021-06-2810_02_53.505325/model-00030-0.77042-0.85671-0.93611-0.71000.h5\n",
            "Epoch 31/40\n",
            "40/42 [===========================>..] - ETA: 4s - loss: 0.7822 - categorical_accuracy: 0.83207\n",
            "42/42 [==============================] - ETA: 0s - loss: 0.7812 - categorical_accuracy: 0.83264\n",
            "42/42 [==============================] - 119s 3s/step - loss: 0.7807 - categorical_accuracy: 0.8329 - val_loss: 1.0209 - val_categorical_accuracy: 0.6800\n",
            "\n",
            "Epoch 00031: saving model to model_init_2021-06-2810_02_53.505325/model-00031-0.76103-0.84615-1.02092-0.68000.h5\n",
            "Epoch 32/40\n",
            "40/42 [===========================>..] - ETA: 4s - loss: 0.7748 - categorical_accuracy: 0.82257\n",
            "42/42 [==============================] - ETA: 0s - loss: 0.7737 - categorical_accuracy: 0.82294\n",
            "42/42 [==============================] - 119s 3s/step - loss: 0.7732 - categorical_accuracy: 0.8231 - val_loss: 0.8792 - val_categorical_accuracy: 0.7500\n",
            "\n",
            "Epoch 00032: saving model to model_init_2021-06-2810_02_53.505325/model-00032-0.75151-0.83107-0.87920-0.75000.h5\n",
            "Epoch 33/40\n",
            "40/42 [===========================>..] - ETA: 4s - loss: 0.7144 - categorical_accuracy: 0.84587\n",
            "42/42 [==============================] - ETA: 0s - loss: 0.7142 - categorical_accuracy: 0.84604\n",
            "42/42 [==============================] - 119s 3s/step - loss: 0.7142 - categorical_accuracy: 0.8460 - val_loss: 0.9924 - val_categorical_accuracy: 0.7400\n",
            "\n",
            "Epoch 00033: saving model to model_init_2021-06-2810_02_53.505325/model-00033-0.71209-0.84917-0.99244-0.74000.h5\n",
            "Epoch 34/40\n",
            "40/42 [===========================>..] - ETA: 4s - loss: 0.7087 - categorical_accuracy: 0.85467\n",
            "42/42 [==============================] - ETA: 0s - loss: 0.7086 - categorical_accuracy: 0.85474\n",
            "42/42 [==============================] - 118s 3s/step - loss: 0.7086 - categorical_accuracy: 0.8547 - val_loss: 1.0024 - val_categorical_accuracy: 0.7600\n",
            "\n",
            "Epoch 00034: saving model to model_init_2021-06-2810_02_53.505325/model-00034-0.70824-0.85671-1.00240-0.76000.h5\n",
            "\n",
            "Epoch 00034: ReduceLROnPlateau reducing learning rate to 3.125000148429535e-05.\n",
            "Epoch 35/40\n",
            "40/42 [===========================>..] - ETA: 4s - loss: 0.6935 - categorical_accuracy: 0.84387\n",
            "42/42 [==============================] - ETA: 0s - loss: 0.6921 - categorical_accuracy: 0.84534\n",
            "4\n",
            "42/42 [==============================] - 118s 3s/step - loss: 0.6914 - categorical_accuracy: 0.8460 - val_loss: 0.9694 - val_categorical_accuracy: 0.7000\n",
            "\n",
            "Epoch 00035: saving model to model_init_2021-06-2810_02_53.505325/model-00035-0.66301-0.87632-0.96940-0.70000.h5\n",
            "Epoch 36/40\n",
            "40/42 [===========================>..] - ETA: 4s - loss: 0.6697 - categorical_accuracy: 0.88277\n",
            "42/42 [==============================] - ETA: 0s - loss: 0.6695 - categorical_accuracy: 0.88274\n",
            "42/42 [==============================] - 119s 3s/step - loss: 0.6694 - categorical_accuracy: 0.8827 - val_loss: 0.9416 - val_categorical_accuracy: 0.7200\n",
            "\n",
            "Epoch 00036: saving model to model_init_2021-06-2810_02_53.505325/model-00036-0.66536-0.88235-0.94157-0.72000.h5\n",
            "\n",
            "Epoch 00036: ReduceLROnPlateau reducing learning rate to 1.5625000742147677e-05.\n",
            "Epoch 37/40\n",
            "40/42 [===========================>..] - ETA: 4s - loss: 0.6463 - categorical_accuracy: 0.87907\n",
            "42/42 [==============================] - ETA: 0s - loss: 0.6472 - categorical_accuracy: 0.87874\n",
            "42/42 [==============================] - 119s 3s/step - loss: 0.6476 - categorical_accuracy: 0.8786 - val_loss: 0.9660 - val_categorical_accuracy: 0.7600\n",
            "\n",
            "Epoch 00037: saving model to model_init_2021-06-2810_02_53.505325/model-00037-0.66664-0.87179-0.96599-0.76000.h5\n",
            "Epoch 38/40\n",
            "40/42 [===========================>..] - ETA: 4s - loss: 0.6402 - categorical_accuracy: 0.89757\n",
            "42/42 [==============================] - ETA: 0s - loss: 0.6397 - categorical_accuracy: 0.89774\n",
            "42/42 [==============================] - 119s 3s/step - loss: 0.6394 - categorical_accuracy: 0.8977 - val_loss: 1.0394 - val_categorical_accuracy: 0.6700\n",
            "\n",
            "Epoch 00038: saving model to model_init_2021-06-2810_02_53.505325/model-00038-0.62877-0.90045-1.03943-0.67000.h5\n",
            "\n",
            "Epoch 00038: ReduceLROnPlateau reducing learning rate to 7.812500371073838e-06.\n",
            "Epoch 39/40\n",
            "40/42 [===========================>..] - ETA: 4s - loss: 0.6288 - categorical_accuracy: 0.87397\n",
            "42/42 [==============================] - ETA: 0s - loss: 0.6295 - categorical_accuracy: 0.87414\n",
            "42/42 [==============================] - 118s 3s/step - loss: 0.6298 - categorical_accuracy: 0.8741 - val_loss: 0.9238 - val_categorical_accuracy: 0.7200\n",
            "\n",
            "Epoch 00039: saving model to model_init_2021-06-2810_02_53.505325/model-00039-0.64398-0.87632-0.92382-0.72000.h5\n",
            "Epoch 40/40\n",
            "40/42 [===========================>..] - ETA: 4s - loss: 0.6255 - categorical_accuracy: 0.90117\n",
            "42/42 [==============================] - ETA: 0s - loss: 0.6259 - categorical_accuracy: 0.90074\n",
            "42/42 [==============================] - 121s 3s/step - loss: 0.6261 - categorical_accuracy: 0.9005 - val_loss: 0.9874 - val_categorical_accuracy: 0.7100\n",
            "\n",
            "Epoch 00040: saving model to model_init_2021-06-2810_02_53.505325/model-00040-0.63427-0.89140-0.98739-0.71000.h5\n",
            "\n",
            "Epoch 00040: ReduceLROnPlateau reducing learning rate to 3.906250185536919e-06.\n"
          ],
          "name": "stdout"
        }
      ]
    },
    {
      "cell_type": "code",
      "metadata": {
        "colab": {
          "base_uri": "https://localhost:8080/",
          "height": 498
        },
        "id": "o8dVVQ_pmfeK",
        "outputId": "ee1ab40c-be32-4691-880e-b38b5db4fbf7"
      },
      "source": [
        "acc = history3.history['categorical_accuracy']\n",
        "val_acc = history3.history['val_categorical_accuracy']\n",
        "\n",
        "loss = history3.history['loss']\n",
        "val_loss = history3.history['val_loss']\n",
        "\n",
        "epochs_range = range(num_epochs)\n",
        "\n",
        "plt.figure(figsize=(8, 8))\n",
        "plt.subplot(1, 2, 1)\n",
        "plt.plot(epochs_range, acc, label='Training Accuracy')\n",
        "plt.plot(epochs_range, val_acc, label='Validation Accuracy')\n",
        "plt.legend(loc='lower right')\n",
        "plt.title('Training and Validation Accuracy')\n",
        "\n",
        "plt.subplot(1, 2, 2)\n",
        "plt.plot(epochs_range, loss, label='Training Loss')\n",
        "plt.plot(epochs_range, val_loss, label='Validation Loss')\n",
        "plt.legend(loc='upper right')\n",
        "plt.title('Training and Validation Loss')\n",
        "plt.show()"
      ],
      "execution_count": 20,
      "outputs": [
        {
          "output_type": "display_data",
          "data": {
            "image/png": "[encoded data removed]",
            "text/plain": [
              "<Figure size 576x576 with 2 Axes>"
            ]
          },
          "metadata": {
            "tags": [],
            "needs_background": "light"
          }
        }
      ]
    },
    {
      "cell_type": "markdown",
      "metadata": {
        "id": "TvYmxbnhSYvz"
      },
      "source": [
        "### Model 4 - MobileNet + GRU"
      ]
    },
    {
      "cell_type": "code",
      "metadata": {
        "id": "AmTYw0ZDmlvh"
      },
      "source": [
        "from keras.applications.mobilenet import MobileNet"
      ],
      "execution_count": 31,
      "outputs": []
    },
    {
      "cell_type": "code",
      "metadata": {
        "colab": {
          "base_uri": "https://localhost:8080/"
        },
        "id": "y7agd55SXo3L",
        "outputId": "a827feb0-7b8f-4a4d-b368-07febe8ea693"
      },
      "source": [
        "testGen = generator(train_path,train_doc,batch_size)\n",
        "batch_data,batch_labels = next(testGen)\n",
        "inputShape = batch_data[0].shape\n",
        "inputShape"
      ],
      "execution_count": 32,
      "outputs": [
        {
          "output_type": "stream",
          "text": [
            "Source path =  /content/gdrive/My Drive/Colab Notebooks/Project_data/train ; batch size = 16\n"
          ],
          "name": "stdout"
        },
        {
          "output_type": "execute_result",
          "data": {
            "text/plain": [
              "(15, 100, 100, 3)"
            ]
          },
          "metadata": {
            "tags": []
          },
          "execution_count": 32
        }
      ]
    },
    {
      "cell_type": "code",
      "metadata": {
        "id": "oGLY7bbG4hjP",
        "colab": {
          "base_uri": "https://localhost:8080/"
        },
        "outputId": "6f77dde8-d68e-44a0-9910-5ee8dc695393"
      },
      "source": [
        "from tensorflow.keras.layers import MaxPooling2D\n",
        "\n",
        "curr_dt_time = datetime.datetime.now()\n",
        "train_path = '/content/gdrive/My Drive/Colab Notebooks/Project_data/train'\n",
        "val_path = '/content/gdrive/My Drive/Colab Notebooks/Project_data/val'\n",
        "num_train_sequences = len(train_doc)\n",
        "print('# training sequences =', num_train_sequences)\n",
        "num_val_sequences = len(val_doc)\n",
        "print('# validation sequences =', num_val_sequences)\n",
        "num_epochs = 10 # choose the number of epochs\n",
        "print ('# epochs =', num_epochs)\n",
        "\n",
        "mobilenet_TL = MobileNet(weights='imagenet', include_top=False)\n",
        "\n",
        "model4 = Sequential()\n",
        "model4.add(TimeDistributed(mobilenet_TL, input_shape = inputShape))\n",
        "model4.add(TimeDistributed(BatchNormalization()))\n",
        "model4.add(TimeDistributed(Flatten()))\n",
        "\n",
        "model4.add(GRU(64))\n",
        "model4.add(Dropout(0.3))\n",
        "\n",
        "model4.add(Dense(64,activation='relu'))\n",
        "model4.add(Dropout(0.3))\n",
        "\n",
        "model4.add(Dense(5, activation='softmax'))\n",
        "\n",
        "learning_rate = 0.001\n",
        "optimiser = keras.optimizers.Adam(lr=learning_rate) #write your optimizer\n",
        "model4.compile(optimizer=optimiser, loss='categorical_crossentropy', metrics=['categorical_accuracy'])\n",
        "print (model4.summary())"
      ],
      "execution_count": 37,
      "outputs": [
        {
          "output_type": "stream",
          "text": [
            "# training sequences = 663\n",
            "# validation sequences = 100\n",
            "# epochs = 10\n",
            "WARNING:tensorflow:`input_shape` is undefined or non-square, or `rows` is not in [128, 160, 192, 224]. Weights for input shape (224, 224) will be loaded as the default.\n",
            "Model: \"sequential_11\"\n",
            "_________________________________________________________________\n",
            "Layer (type)                 Output Shape              Param #   \n",
            "=================================================================\n",
            "time_distributed_6 (TimeDist (None, 15, 3, 3, 1024)    3228864   \n",
            "_________________________________________________________________\n",
            "time_distributed_7 (TimeDist (None, 15, 3, 3, 1024)    4096      \n",
            "_________________________________________________________________\n",
            "time_distributed_8 (TimeDist (None, 15, 9216)          0         \n",
            "_________________________________________________________________\n",
            "gru (GRU)                    (None, 64)                1782144   \n",
            "_________________________________________________________________\n",
            "dropout_14 (Dropout)         (None, 64)                0         \n",
            "_________________________________________________________________\n",
            "dense_9 (Dense)              (None, 64)                4160      \n",
            "_________________________________________________________________\n",
            "dropout_15 (Dropout)         (None, 64)                0         \n",
            "_________________________________________________________________\n",
            "dense_10 (Dense)             (None, 5)                 325       \n",
            "=================================================================\n",
            "Total params: 5,019,589\n",
            "Trainable params: 4,995,653\n",
            "Non-trainable params: 23,936\n",
            "_________________________________________________________________\n",
            "None\n"
          ],
          "name": "stdout"
        },
        {
          "output_type": "stream",
          "text": [
            "/usr/local/lib/python3.7/dist-packages/tensorflow/python/keras/optimizer_v2/optimizer_v2.py:375: UserWarning: The `lr` argument is deprecated, use `learning_rate` instead.\n",
            "  \"The `lr` argument is deprecated, use `learning_rate` instead.\")\n"
          ],
          "name": "stderr"
        }
      ]
    },
    {
      "cell_type": "code",
      "metadata": {
        "colab": {
          "base_uri": "https://localhost:8080/"
        },
        "id": "DD9LBbQ2RitF",
        "outputId": "71ca55f9-4efa-46d4-918f-df281a5616c7"
      },
      "source": [
        "train_generator = generator(train_path, train_doc, batch_size)\n",
        "val_generator = generator(val_path, val_doc, batch_size)\n",
        "\n",
        "model_name = 'model_init' + '_' + str(curr_dt_time).replace(' ','').replace(':','_') + '/'\n",
        "    \n",
        "if not os.path.exists(model_name):\n",
        "    os.mkdir(model_name)\n",
        "        \n",
        "filepath = model_name + 'model-{epoch:05d}-{loss:.5f}-{categorical_accuracy:.5f}-{val_loss:.5f}-{val_categorical_accuracy:.5f}.h5'\n",
        "\n",
        "checkpoint = ModelCheckpoint(filepath, monitor='val_loss', verbose=1, save_best_only=False, save_weights_only=False, mode='auto', period=1)\n",
        "\n",
        "LR = ReduceLROnPlateau(monitor='val_loss', factor=0.5, patience=2, cooldown=1, verbose=1)# write the REducelronplateau code here\n",
        "callbacks_list = [checkpoint, LR]\n",
        "\n",
        "if (num_train_sequences%batch_size) == 0:\n",
        "    steps_per_epoch = int(num_train_sequences/batch_size)\n",
        "else:\n",
        "    steps_per_epoch = (num_train_sequences//batch_size) + 1\n",
        "\n",
        "if (num_val_sequences%batch_size) == 0:\n",
        "    validation_steps = int(num_val_sequences/batch_size)\n",
        "else:\n",
        "    validation_steps = (num_val_sequences//batch_size) + 1\n",
        "\n",
        "\n",
        "history4 = model4.fit_generator(train_generator, steps_per_epoch=steps_per_epoch, epochs=num_epochs, verbose=1, \n",
        "                    callbacks=callbacks_list, validation_data=val_generator, \n",
        "                    validation_steps=validation_steps, class_weight=None, workers=1, initial_epoch=0)"
      ],
      "execution_count": 38,
      "outputs": [
        {
          "output_type": "stream",
          "text": [
            "WARNING:tensorflow:`period` argument is deprecated. Please use `save_freq` to specify the frequency in number of batches seen.\n",
            "Source path =  /content/gdrive/My Drive/Colab Notebooks/Project_data/train ; batch size = 16\n"
          ],
          "name": "stdout"
        },
        {
          "output_type": "stream",
          "text": [
            "/usr/local/lib/python3.7/dist-packages/keras/engine/training.py:1915: UserWarning: `Model.fit_generator` is deprecated and will be removed in a future version. Please use `Model.fit`, which supports generators.\n",
            "  warnings.warn('`Model.fit_generator` is deprecated and '\n"
          ],
          "name": "stderr"
        },
        {
          "output_type": "stream",
          "text": [
            "Epoch 1/10\n",
            "40/42 [===========================>..] - ETA: 4s - loss: 1.4745 - categorical_accuracy: 0.38907\n",
            "42/42 [==============================] - ETA: 0s - loss: 1.4649 - categorical_accuracy: 0.3938Source path =  /content/gdrive/My Drive/Colab Notebooks/Project_data/val ; batch size = 16\n",
            "4\n",
            "42/42 [==============================] - 149s 3s/step - loss: 1.4605 - categorical_accuracy: 0.3960 - val_loss: 1.2298 - val_categorical_accuracy: 0.5300\n",
            "\n",
            "Epoch 00001: saving model to model_init_2021-06-2811_44_05.496959/model-00001-1.27281-0.49020-1.22978-0.53000.h5\n",
            "Epoch 2/10\n",
            "40/42 [===========================>..] - ETA: 4s - loss: 0.6965 - categorical_accuracy: 0.72977\n",
            "42/42 [==============================] - ETA: 0s - loss: 0.6931 - categorical_accuracy: 0.73244\n",
            "42/42 [==============================] - 121s 3s/step - loss: 0.6914 - categorical_accuracy: 0.7337 - val_loss: 0.8872 - val_categorical_accuracy: 0.6800\n",
            "\n",
            "Epoch 00002: saving model to model_init_2021-06-2811_44_05.496959/model-00002-0.62152-0.78733-0.88720-0.68000.h5\n",
            "Epoch 3/10\n",
            "40/42 [===========================>..] - ETA: 4s - loss: 0.4145 - categorical_accuracy: 0.87277\n",
            "42/42 [==============================] - ETA: 0s - loss: 0.4137 - categorical_accuracy: 0.87304\n",
            "42/42 [==============================] - 120s 3s/step - loss: 0.4132 - categorical_accuracy: 0.8731 - val_loss: 0.3983 - val_categorical_accuracy: 0.8400\n",
            "\n",
            "Epoch 00003: saving model to model_init_2021-06-2811_44_05.496959/model-00003-0.39532-0.87934-0.39830-0.84000.h5\n",
            "Epoch 4/10\n",
            "40/42 [===========================>..] - ETA: 4s - loss: 0.4246 - categorical_accuracy: 0.86697\n",
            "42/42 [==============================] - ETA: 0s - loss: 0.4242 - categorical_accuracy: 0.86734\n",
            "42/42 [==============================] - 123s 3s/step - loss: 0.4241 - categorical_accuracy: 0.8674 - val_loss: 0.5279 - val_categorical_accuracy: 0.8100\n",
            "\n",
            "Epoch 00004: saving model to model_init_2021-06-2811_44_05.496959/model-00004-0.41895-0.87330-0.52786-0.81000.h5\n",
            "Epoch 5/10\n",
            "40/42 [===========================>..] - ETA: 5s - loss: 0.3479 - categorical_accuracy: 0.90037\n",
            "42/42 [==============================] - ETA: 0s - loss: 0.3475 - categorical_accuracy: 0.90044\n",
            "42/42 [==============================] - 122s 3s/step - loss: 0.3473 - categorical_accuracy: 0.9004 - val_loss: 0.8288 - val_categorical_accuracy: 0.7300\n",
            "\n",
            "Epoch 00005: saving model to model_init_2021-06-2811_44_05.496959/model-00005-0.34128-0.90045-0.82876-0.73000.h5\n",
            "\n",
            "Epoch 00005: ReduceLROnPlateau reducing learning rate to 0.0005000000237487257.\n",
            "Epoch 6/10\n",
            "40/42 [===========================>..] - ETA: 5s - loss: 0.3200 - categorical_accuracy: 0.89707\n",
            "42/42 [==============================] - ETA: 0s - loss: 0.3199 - categorical_accuracy: 0.89704\n",
            "42/42 [==============================] - 127s 3s/step - loss: 0.3198 - categorical_accuracy: 0.8970 - val_loss: 0.3365 - val_categorical_accuracy: 0.8800\n",
            "\n",
            "Epoch 00006: saving model to model_init_2021-06-2811_44_05.496959/model-00006-0.31771-0.89744-0.33647-0.88000.h5\n",
            "Epoch 7/10\n",
            "40/42 [===========================>..] - ETA: 5s - loss: 0.1713 - categorical_accuracy: 0.94177\n",
            "42/42 [==============================] - ETA: 0s - loss: 0.1728 - categorical_accuracy: 0.94124\n",
            "4\n",
            "42/42 [==============================] - 123s 3s/step - loss: 0.1735 - categorical_accuracy: 0.9410 - val_loss: 0.2023 - val_categorical_accuracy: 0.9400\n",
            "\n",
            "Epoch 00007: saving model to model_init_2021-06-2811_44_05.496959/model-00007-0.20422-0.93213-0.20226-0.94000.h5\n",
            "Epoch 8/10\n",
            "40/42 [===========================>..] - ETA: 5s - loss: 0.1411 - categorical_accuracy: 0.95717\n",
            "42/42 [==============================] - ETA: 0s - loss: 0.1409 - categorical_accuracy: 0.95724\n",
            "42/42 [==============================] - 123s 3s/step - loss: 0.1408 - categorical_accuracy: 0.9573 - val_loss: 0.3402 - val_categorical_accuracy: 0.9000\n",
            "\n",
            "Epoch 00008: saving model to model_init_2021-06-2811_44_05.496959/model-00008-0.13704-0.95928-0.34025-0.90000.h5\n",
            "Epoch 9/10\n",
            "40/42 [===========================>..] - ETA: 5s - loss: 0.1607 - categorical_accuracy: 0.95727\n",
            "42/42 [==============================] - ETA: 0s - loss: 0.1603 - categorical_accuracy: 0.95724\n",
            "42/42 [==============================] - 123s 3s/step - loss: 0.1602 - categorical_accuracy: 0.9572 - val_loss: 0.3879 - val_categorical_accuracy: 0.8400\n",
            "\n",
            "Epoch 00009: saving model to model_init_2021-06-2811_44_05.496959/model-00009-0.15335-0.95777-0.38793-0.84000.h5\n",
            "\n",
            "Epoch 00009: ReduceLROnPlateau reducing learning rate to 0.0002500000118743628.\n",
            "Epoch 10/10\n",
            "40/42 [===========================>..] - ETA: 4s - loss: 0.1182 - categorical_accuracy: 0.96417\n",
            "42/42 [==============================] - ETA: 0s - loss: 0.1184 - categorical_accuracy: 0.96394\n",
            "42/42 [==============================] - 122s 3s/step - loss: 0.1184 - categorical_accuracy: 0.9638 - val_loss: 0.2613 - val_categorical_accuracy: 0.9300\n",
            "\n",
            "Epoch 00010: saving model to model_init_2021-06-2811_44_05.496959/model-00010-0.12083-0.96078-0.26131-0.93000.h5\n"
          ],
          "name": "stdout"
        }
      ]
    },
    {
      "cell_type": "code",
      "metadata": {
        "colab": {
          "base_uri": "https://localhost:8080/",
          "height": 498
        },
        "id": "WT7jS6ZaRtzu",
        "outputId": "639bcac4-0184-4210-84ac-c62c4792fe39"
      },
      "source": [
        "acc = history4.history['categorical_accuracy']\n",
        "val_acc = history4.history['val_categorical_accuracy']\n",
        "\n",
        "loss = history4.history['loss']\n",
        "val_loss = history4.history['val_loss']\n",
        "\n",
        "epochs_range = range(num_epochs)\n",
        "\n",
        "plt.figure(figsize=(8, 8))\n",
        "plt.subplot(1, 2, 1)\n",
        "plt.plot(epochs_range, acc, label='Training Accuracy')\n",
        "plt.plot(epochs_range, val_acc, label='Validation Accuracy')\n",
        "plt.legend(loc='lower right')\n",
        "plt.title('Training and Validation Accuracy')\n",
        "\n",
        "plt.subplot(1, 2, 2)\n",
        "plt.plot(epochs_range, loss, label='Training Loss')\n",
        "plt.plot(epochs_range, val_loss, label='Validation Loss')\n",
        "plt.legend(loc='upper right')\n",
        "plt.title('Training and Validation Loss')\n",
        "plt.show()"
      ],
      "execution_count": 39,
      "outputs": [
        {
          "output_type": "display_data",
          "data": {
            "image/png": "[encoded data removed]",
            "text/plain": [
              "<Figure size 576x576 with 2 Axes>"
            ]
          },
          "metadata": {
            "tags": [],
            "needs_background": "light"
          }
        }
      ]
    },
    {
      "cell_type": "markdown",
      "metadata": {
        "id": "pDAMOjWASi35"
      },
      "source": [
        "### Model 5 - MobileNet + GRU\n",
        "\n",
        "- Will experiment by removing the dropout.\n",
        "- Increasing the number of epochs for training the model more."
      ]
    },
    {
      "cell_type": "code",
      "metadata": {
        "colab": {
          "base_uri": "https://localhost:8080/"
        },
        "id": "G7Ne_NazR34e",
        "outputId": "9ff91773-83be-4843-d11d-4550091ebbe5"
      },
      "source": [
        "curr_dt_time = datetime.datetime.now()\n",
        "train_path = '/content/gdrive/My Drive/Colab Notebooks/Project_data/train'\n",
        "val_path = '/content/gdrive/My Drive/Colab Notebooks/Project_data/val'\n",
        "num_train_sequences = len(train_doc)\n",
        "print('# training sequences =', num_train_sequences)\n",
        "num_val_sequences = len(val_doc)\n",
        "print('# validation sequences =', num_val_sequences)\n",
        "num_epochs = 20 # choose the number of epochs\n",
        "print ('# epochs =', num_epochs)\n",
        "\n",
        "mobilenet_TL = MobileNet(weights='imagenet', include_top=False)\n",
        "\n",
        "model5 = Sequential()\n",
        "model5.add(TimeDistributed(mobilenet_TL,input_shape= inputShape))\n",
        "model5.add(TimeDistributed(BatchNormalization()))\n",
        "model5.add(TimeDistributed(Flatten()))\n",
        "\n",
        "model5.add(GRU(64))\n",
        "model5.add(Dropout(0.3))\n",
        "\n",
        "model5.add(Dense(64,activation='relu'))\n",
        "\n",
        "model5.add(Dense(5, activation='softmax'))\n",
        "\n",
        "learning_rate = 0.001\n",
        "optimiser = keras.optimizers.Adam(lr=learning_rate) #write your optimizer\n",
        "model5.compile(optimizer=optimiser, loss='categorical_crossentropy', metrics=['categorical_accuracy'])\n",
        "print (model5.summary())"
      ],
      "execution_count": 40,
      "outputs": [
        {
          "output_type": "stream",
          "text": [
            "# training sequences = 663\n",
            "# validation sequences = 100\n",
            "# epochs = 20\n",
            "WARNING:tensorflow:`input_shape` is undefined or non-square, or `rows` is not in [128, 160, 192, 224]. Weights for input shape (224, 224) will be loaded as the default.\n",
            "Model: \"sequential_12\"\n",
            "_________________________________________________________________\n",
            "Layer (type)                 Output Shape              Param #   \n",
            "=================================================================\n",
            "time_distributed_9 (TimeDist (None, 15, 3, 3, 1024)    3228864   \n",
            "_________________________________________________________________\n",
            "time_distributed_10 (TimeDis (None, 15, 3, 3, 1024)    4096      \n",
            "_________________________________________________________________\n",
            "time_distributed_11 (TimeDis (None, 15, 9216)          0         \n",
            "_________________________________________________________________\n",
            "gru_1 (GRU)                  (None, 64)                1782144   \n",
            "_________________________________________________________________\n",
            "dropout_16 (Dropout)         (None, 64)                0         \n",
            "_________________________________________________________________\n",
            "dense_11 (Dense)             (None, 64)                4160      \n",
            "_________________________________________________________________\n",
            "dense_12 (Dense)             (None, 5)                 325       \n",
            "=================================================================\n",
            "Total params: 5,019,589\n",
            "Trainable params: 4,995,653\n",
            "Non-trainable params: 23,936\n",
            "_________________________________________________________________\n",
            "None\n"
          ],
          "name": "stdout"
        },
        {
          "output_type": "stream",
          "text": [
            "/usr/local/lib/python3.7/dist-packages/tensorflow/python/keras/optimizer_v2/optimizer_v2.py:375: UserWarning: The `lr` argument is deprecated, use `learning_rate` instead.\n",
            "  \"The `lr` argument is deprecated, use `learning_rate` instead.\")\n"
          ],
          "name": "stderr"
        }
      ]
    },
    {
      "cell_type": "code",
      "metadata": {
        "colab": {
          "base_uri": "https://localhost:8080/"
        },
        "id": "1dgTltGAUMrj",
        "outputId": "f4cf1479-2684-4a3e-8a7e-4854492c972b"
      },
      "source": [
        "train_generator = generator(train_path, train_doc, batch_size)\n",
        "val_generator = generator(val_path, val_doc, batch_size)\n",
        "\n",
        "model_name = 'model_init' + '_' + str(curr_dt_time).replace(' ','').replace(':','_') + '/'\n",
        "    \n",
        "if not os.path.exists(model_name):\n",
        "    os.mkdir(model_name)\n",
        "        \n",
        "filepath = model_name + 'model-{epoch:05d}-{loss:.5f}-{categorical_accuracy:.5f}-{val_loss:.5f}-{val_categorical_accuracy:.5f}.h5'\n",
        "\n",
        "checkpoint = ModelCheckpoint(filepath, monitor='val_loss', verbose=1, save_best_only=False, save_weights_only=False, mode='auto', period=1)\n",
        "\n",
        "LR = ReduceLROnPlateau(monitor='val_loss', factor=0.5, patience=2, cooldown=1, verbose=1)# write the REducelronplateau code here\n",
        "callbacks_list = [checkpoint, LR]\n",
        "\n",
        "if (num_train_sequences%batch_size) == 0:\n",
        "    steps_per_epoch = int(num_train_sequences/batch_size)\n",
        "else:\n",
        "    steps_per_epoch = (num_train_sequences//batch_size) + 1\n",
        "\n",
        "if (num_val_sequences%batch_size) == 0:\n",
        "    validation_steps = int(num_val_sequences/batch_size)\n",
        "else:\n",
        "    validation_steps = (num_val_sequences//batch_size) + 1\n",
        "\n",
        "\n",
        "history5 = model5.fit_generator(train_generator, steps_per_epoch=steps_per_epoch, epochs=num_epochs, verbose=1, \n",
        "                    callbacks=callbacks_list, validation_data=val_generator, \n",
        "                    validation_steps=validation_steps, class_weight=None, workers=1, initial_epoch=0)"
      ],
      "execution_count": 41,
      "outputs": [
        {
          "output_type": "stream",
          "text": [
            "WARNING:tensorflow:`period` argument is deprecated. Please use `save_freq` to specify the frequency in number of batches seen.\n",
            "Source path =  /content/gdrive/My Drive/Colab Notebooks/Project_data/train ; batch size = 16\n"
          ],
          "name": "stdout"
        },
        {
          "output_type": "stream",
          "text": [
            "/usr/local/lib/python3.7/dist-packages/keras/engine/training.py:1915: UserWarning: `Model.fit_generator` is deprecated and will be removed in a future version. Please use `Model.fit`, which supports generators.\n",
            "  warnings.warn('`Model.fit_generator` is deprecated and '\n"
          ],
          "name": "stderr"
        },
        {
          "output_type": "stream",
          "text": [
            "Epoch 1/20\n",
            "40/42 [===========================>..] - ETA: 5s - loss: 1.3931 - categorical_accuracy: 0.43377\n",
            "42/42 [==============================] - ETA: 0s - loss: 1.3769 - categorical_accuracy: 0.4410Source path =  /content/gdrive/My Drive/Colab Notebooks/Project_data/val ; batch size = 16\n",
            "4\n",
            "42/42 [==============================] - 139s 3s/step - loss: 1.3693 - categorical_accuracy: 0.4444 - val_loss: 1.5018 - val_categorical_accuracy: 0.4400\n",
            "\n",
            "Epoch 00001: saving model to model_init_2021-06-2812_06_14.499404/model-00001-1.04976-0.58673-1.50176-0.44000.h5\n",
            "Epoch 2/20\n",
            "40/42 [===========================>..] - ETA: 4s - loss: 0.4807 - categorical_accuracy: 0.82717\n",
            "42/42 [==============================] - ETA: 0s - loss: 0.4800 - categorical_accuracy: 0.82744\n",
            "42/42 [==============================] - 121s 3s/step - loss: 0.4796 - categorical_accuracy: 0.8276 - val_loss: 0.8771 - val_categorical_accuracy: 0.7100\n",
            "\n",
            "Epoch 00002: saving model to model_init_2021-06-2812_06_14.499404/model-00002-0.46584-0.83409-0.87710-0.71000.h5\n",
            "Epoch 3/20\n",
            "40/42 [===========================>..] - ETA: 5s - loss: 0.3385 - categorical_accuracy: 0.88307\n",
            "42/42 [==============================] - ETA: 0s - loss: 0.3404 - categorical_accuracy: 0.88264\n",
            "42/42 [==============================] - 122s 3s/step - loss: 0.3413 - categorical_accuracy: 0.8824 - val_loss: 0.7716 - val_categorical_accuracy: 0.7100\n",
            "\n",
            "Epoch 00003: saving model to model_init_2021-06-2812_06_14.499404/model-00003-0.37941-0.87330-0.77161-0.71000.h5\n",
            "Epoch 4/20\n",
            "40/42 [===========================>..] - ETA: 4s - loss: 0.3041 - categorical_accuracy: 0.90567\n",
            "42/42 [==============================] - ETA: 0s - loss: 0.3046 - categorical_accuracy: 0.90534\n",
            "42/42 [==============================] - 121s 3s/step - loss: 0.3049 - categorical_accuracy: 0.9052 - val_loss: 0.6956 - val_categorical_accuracy: 0.6900\n",
            "\n",
            "Epoch 00004: saving model to model_init_2021-06-2812_06_14.499404/model-00004-0.31543-0.89894-0.69560-0.69000.h5\n",
            "Epoch 5/20\n",
            "40/42 [===========================>..] - ETA: 4s - loss: 0.2275 - categorical_accuracy: 0.92197\n",
            "42/42 [==============================] - ETA: 0s - loss: 0.2271 - categorical_accuracy: 0.92214\n",
            "42/42 [==============================] - 122s 3s/step - loss: 0.2269 - categorical_accuracy: 0.9223 - val_loss: 0.3687 - val_categorical_accuracy: 0.8700\n",
            "\n",
            "Epoch 00005: saving model to model_init_2021-06-2812_06_14.499404/model-00005-0.21890-0.92760-0.36866-0.87000.h5\n",
            "Epoch 6/20\n",
            "40/42 [===========================>..] - ETA: 4s - loss: 0.1872 - categorical_accuracy: 0.94787\n",
            "42/42 [==============================] - ETA: 0s - loss: 0.1876 - categorical_accuracy: 0.94734\n",
            "42/42 [==============================] - 121s 3s/step - loss: 0.1878 - categorical_accuracy: 0.9470 - val_loss: 0.5233 - val_categorical_accuracy: 0.7800\n",
            "\n",
            "Epoch 00006: saving model to model_init_2021-06-2812_06_14.499404/model-00006-0.19465-0.93665-0.52330-0.78000.h5\n",
            "Epoch 7/20\n",
            "40/42 [===========================>..] - ETA: 4s - loss: 0.1822 - categorical_accuracy: 0.95357\n",
            "42/42 [==============================] - ETA: 0s - loss: 0.1841 - categorical_accuracy: 0.95264\n",
            "4\n",
            "42/42 [==============================] - 119s 3s/step - loss: 0.1849 - categorical_accuracy: 0.9522 - val_loss: 0.5621 - val_categorical_accuracy: 0.8000\n",
            "\n",
            "Epoch 00007: saving model to model_init_2021-06-2812_06_14.499404/model-00007-0.21971-0.93514-0.56208-0.80000.h5\n",
            "\n",
            "Epoch 00007: ReduceLROnPlateau reducing learning rate to 0.0005000000237487257.\n",
            "Epoch 8/20\n",
            "40/42 [===========================>..] - ETA: 4s - loss: 0.1522 - categorical_accuracy: 0.94907\n",
            "42/42 [==============================] - ETA: 0s - loss: 0.1516 - categorical_accuracy: 0.94904\n",
            "42/42 [==============================] - 120s 3s/step - loss: 0.1513 - categorical_accuracy: 0.9490 - val_loss: 0.4978 - val_categorical_accuracy: 0.8400\n",
            "\n",
            "Epoch 00008: saving model to model_init_2021-06-2812_06_14.499404/model-00008-0.13843-0.94872-0.49783-0.84000.h5\n",
            "Epoch 9/20\n",
            "40/42 [===========================>..] - ETA: 4s - loss: 0.1583 - categorical_accuracy: 0.96197\n",
            "42/42 [==============================] - ETA: 0s - loss: 0.1571 - categorical_accuracy: 0.96194\n",
            "42/42 [==============================] - 121s 3s/step - loss: 0.1566 - categorical_accuracy: 0.9619 - val_loss: 0.3797 - val_categorical_accuracy: 0.8500\n",
            "\n",
            "Epoch 00009: saving model to model_init_2021-06-2812_06_14.499404/model-00009-0.13416-0.96078-0.37965-0.85000.h5\n",
            "\n",
            "Epoch 00009: ReduceLROnPlateau reducing learning rate to 0.0002500000118743628.\n",
            "Epoch 10/20\n",
            "40/42 [===========================>..] - ETA: 4s - loss: 0.1702 - categorical_accuracy: 0.95657\n",
            "42/42 [==============================] - ETA: 0s - loss: 0.1691 - categorical_accuracy: 0.95664\n",
            "42/42 [==============================] - 121s 3s/step - loss: 0.1685 - categorical_accuracy: 0.9566 - val_loss: 0.3605 - val_categorical_accuracy: 0.8700\n",
            "\n",
            "Epoch 00010: saving model to model_init_2021-06-2812_06_14.499404/model-00010-0.14547-0.95777-0.36049-0.87000.h5\n",
            "Epoch 11/20\n",
            "40/42 [===========================>..] - ETA: 4s - loss: 0.0972 - categorical_accuracy: 0.96837\n",
            "42/42 [==============================] - ETA: 0s - loss: 0.0961 - categorical_accuracy: 0.96874\n",
            "42/42 [==============================] - 122s 3s/step - loss: 0.0956 - categorical_accuracy: 0.9689 - val_loss: 0.1073 - val_categorical_accuracy: 0.9700\n",
            "\n",
            "Epoch 00011: saving model to model_init_2021-06-2812_06_14.499404/model-00011-0.07522-0.97738-0.10730-0.97000.h5\n",
            "Epoch 12/20\n",
            "40/42 [===========================>..] - ETA: 4s - loss: 0.0508 - categorical_accuracy: 0.98447\n",
            "42/42 [==============================] - ETA: 0s - loss: 0.0508 - categorical_accuracy: 0.98444\n",
            "42/42 [==============================] - 121s 3s/step - loss: 0.0507 - categorical_accuracy: 0.9844 - val_loss: 0.2208 - val_categorical_accuracy: 0.9400\n",
            "\n",
            "Epoch 00012: saving model to model_init_2021-06-2812_06_14.499404/model-00012-0.04963-0.98492-0.22083-0.94000.h5\n",
            "Epoch 13/20\n",
            "40/42 [===========================>..] - ETA: 4s - loss: 0.0305 - categorical_accuracy: 0.99907\n",
            "42/42 [==============================] - ETA: 0s - loss: 0.0310 - categorical_accuracy: 0.99884\n",
            "42/42 [==============================] - 121s 3s/step - loss: 0.0313 - categorical_accuracy: 0.9987 - val_loss: 0.1738 - val_categorical_accuracy: 0.9300\n",
            "\n",
            "Epoch 00013: saving model to model_init_2021-06-2812_06_14.499404/model-00013-0.04118-0.99548-0.17384-0.93000.h5\n",
            "\n",
            "Epoch 00013: ReduceLROnPlateau reducing learning rate to 0.0001250000059371814.\n",
            "Epoch 14/20\n",
            "40/42 [===========================>..] - ETA: 4s - loss: 0.0368 - categorical_accuracy: 0.98977\n",
            "42/42 [==============================] - ETA: 0s - loss: 0.0368 - categorical_accuracy: 0.98974\n",
            "4\n",
            "42/42 [==============================] - 119s 3s/step - loss: 0.0367 - categorical_accuracy: 0.9897 - val_loss: 0.1360 - val_categorical_accuracy: 0.9600\n",
            "\n",
            "Epoch 00014: saving model to model_init_2021-06-2812_06_14.499404/model-00014-0.03479-0.98944-0.13603-0.96000.h5\n",
            "Epoch 15/20\n",
            "40/42 [===========================>..] - ETA: 4s - loss: 0.0261 - categorical_accuracy: 0.99537\n",
            "42/42 [==============================] - ETA: 0s - loss: 0.0262 - categorical_accuracy: 0.99524\n",
            "42/42 [==============================] - 120s 3s/step - loss: 0.0263 - categorical_accuracy: 0.9951 - val_loss: 0.1423 - val_categorical_accuracy: 0.9400\n",
            "\n",
            "Epoch 00015: saving model to model_init_2021-06-2812_06_14.499404/model-00015-0.02837-0.99246-0.14228-0.94000.h5\n",
            "\n",
            "Epoch 00015: ReduceLROnPlateau reducing learning rate to 6.25000029685907e-05.\n",
            "Epoch 16/20\n",
            "40/42 [===========================>..] - ETA: 5s - loss: 0.0272 - categorical_accuracy: 0.99417\n",
            "42/42 [==============================] - ETA: 0s - loss: 0.0274 - categorical_accuracy: 0.99404\n",
            "42/42 [==============================] - 123s 3s/step - loss: 0.0275 - categorical_accuracy: 0.9940 - val_loss: 0.1889 - val_categorical_accuracy: 0.9200\n",
            "\n",
            "Epoch 00016: saving model to model_init_2021-06-2812_06_14.499404/model-00016-0.03080-0.99246-0.18891-0.92000.h5\n",
            "Epoch 17/20\n",
            "40/42 [===========================>..] - ETA: 4s - loss: 0.0233 - categorical_accuracy: 0.99847\n",
            "42/42 [==============================] - ETA: 0s - loss: 0.0235 - categorical_accuracy: 0.99834\n",
            "42/42 [==============================] - 120s 3s/step - loss: 0.0236 - categorical_accuracy: 0.9983 - val_loss: 0.2002 - val_categorical_accuracy: 0.9000\n",
            "\n",
            "Epoch 00017: saving model to model_init_2021-06-2812_06_14.499404/model-00017-0.02652-0.99698-0.20016-0.90000.h5\n",
            "\n",
            "Epoch 00017: ReduceLROnPlateau reducing learning rate to 3.125000148429535e-05.\n",
            "Epoch 18/20\n",
            "40/42 [===========================>..] - ETA: 5s - loss: 0.0161 - categorical_accuracy: 0.99987\n",
            "42/42 [==============================] - ETA: 0s - loss: 0.0161 - categorical_accuracy: 0.99974\n",
            "42/42 [==============================] - 124s 3s/step - loss: 0.0161 - categorical_accuracy: 0.9997 - val_loss: 0.1592 - val_categorical_accuracy: 0.9200\n",
            "\n",
            "Epoch 00018: saving model to model_init_2021-06-2812_06_14.499404/model-00018-0.01600-0.99849-0.15919-0.92000.h5\n",
            "Epoch 19/20\n",
            "40/42 [===========================>..] - ETA: 4s - loss: 0.0145 - categorical_accuracy: 0.99607\n",
            "42/42 [==============================] - ETA: 0s - loss: 0.0146 - categorical_accuracy: 0.99604\n",
            "42/42 [==============================] - 122s 3s/step - loss: 0.0146 - categorical_accuracy: 0.9960 - val_loss: 0.1321 - val_categorical_accuracy: 0.9300\n",
            "\n",
            "Epoch 00019: saving model to model_init_2021-06-2812_06_14.499404/model-00019-0.01585-0.99548-0.13207-0.93000.h5\n",
            "\n",
            "Epoch 00019: ReduceLROnPlateau reducing learning rate to 1.5625000742147677e-05.\n",
            "Epoch 20/20\n",
            "40/42 [===========================>..] - ETA: 4s - loss: 0.0153 - categorical_accuracy: 0.99717\n",
            "42/42 [==============================] - ETA: 0s - loss: 0.0153 - categorical_accuracy: 0.99724\n",
            "42/42 [==============================] - 120s 3s/step - loss: 0.0153 - categorical_accuracy: 0.9972 - val_loss: 0.1272 - val_categorical_accuracy: 0.9400\n",
            "\n",
            "Epoch 00020: saving model to model_init_2021-06-2812_06_14.499404/model-00020-0.01612-0.99849-0.12724-0.94000.h5\n"
          ],
          "name": "stdout"
        }
      ]
    },
    {
      "cell_type": "code",
      "metadata": {
        "colab": {
          "base_uri": "https://localhost:8080/",
          "height": 498
        },
        "id": "tdrRzQLNUPAY",
        "outputId": "f1e08f7e-de9f-4b9f-aa9f-a562d9174bbc"
      },
      "source": [
        "acc = history5.history['categorical_accuracy']\n",
        "val_acc = history5.history['val_categorical_accuracy']\n",
        "\n",
        "loss = history5.history['loss']\n",
        "val_loss = history5.history['val_loss']\n",
        "\n",
        "epochs_range = range(num_epochs)\n",
        "\n",
        "plt.figure(figsize=(8, 8))\n",
        "plt.subplot(1, 2, 1)\n",
        "plt.plot(epochs_range, acc, label='Training Accuracy')\n",
        "plt.plot(epochs_range, val_acc, label='Validation Accuracy')\n",
        "plt.legend(loc='lower right')\n",
        "plt.title('Training and Validation Accuracy')\n",
        "\n",
        "plt.subplot(1, 2, 2)\n",
        "plt.plot(epochs_range, loss, label='Training Loss')\n",
        "plt.plot(epochs_range, val_loss, label='Validation Loss')\n",
        "plt.legend(loc='upper right')\n",
        "plt.title('Training and Validation Loss')\n",
        "plt.show()"
      ],
      "execution_count": 42,
      "outputs": [
        {
          "output_type": "display_data",
          "data": {
            "image/png": "[encoded data removed]",
            "text/plain": [
              "<Figure size 576x576 with 2 Axes>"
            ]
          },
          "metadata": {
            "tags": [],
            "needs_background": "light"
          }
        }
      ]
    },
    {
      "cell_type": "code",
      "metadata": {
        "id": "8a7XtoWpg1qt"
      },
      "source": [
        ""
      ],
      "execution_count": null,
      "outputs": []
    }
  ]
}
